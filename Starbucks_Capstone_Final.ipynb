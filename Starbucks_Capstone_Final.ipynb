{
 "cells": [
  {
   "cell_type": "markdown",
   "metadata": {},
   "source": [
    "# Starbucks Capstone Challenge\n",
    "\n",
    "### Introduction\n",
    "\n",
    "This data set contains simulated data that mimics customer behavior on the Starbucks rewards mobile app. Once every few days, Starbucks sends out an offer to users of the mobile app. An offer can be merely an advertisement for a drink or an actual offer such as a discount or BOGO (buy one get one free). Some users might not receive any offer during certain weeks. \n",
    "\n",
    "Not all users receive the same offer, and that is the challenge to solve with this data set.\n",
    "\n",
    "Your task is to combine transaction, demographic and offer data to determine which demographic groups respond best to which offer type. This data set is a simplified version of the real Starbucks app because the underlying simulator only has one product whereas Starbucks actually sells dozens of products.\n",
    "\n",
    "Every offer has a validity period before the offer expires. As an example, a BOGO offer might be valid for only 5 days. You'll see in the data set that informational offers have a validity period even though these ads are merely providing information about a product; for example, if an informational offer has 7 days of validity, you can assume the customer is feeling the influence of the offer for 7 days after receiving the advertisement.\n",
    "\n",
    "You'll be given transactional data showing user purchases made on the app including the timestamp of purchase and the amount of money spent on a purchase. This transactional data also has a record for each offer that a user receives as well as a record for when a user actually views the offer. There are also records for when a user completes an offer. \n",
    "\n",
    "Keep in mind as well that someone using the app might make a purchase through the app without having received an offer or seen an offer.\n",
    "\n",
    "### Example\n",
    "\n",
    "To give an example, a user could receive a discount offer buy 10 dollars get 2 off on Monday. The offer is valid for 10 days from receipt. If the customer accumulates at least 10 dollars in purchases during the validity period, the customer completes the offer.\n",
    "\n",
    "However, there are a few things to watch out for in this data set. Customers do not opt into the offers that they receive; in other words, a user can receive an offer, never actually view the offer, and still complete the offer. For example, a user might receive the \"buy 10 dollars get 2 dollars off offer\", but the user never opens the offer during the 10 day validity period. The customer spends 15 dollars during those ten days. There will be an offer completion record in the data set; however, the customer was not influenced by the offer because the customer never viewed the offer.\n",
    "\n",
    "### Cleaning\n",
    "\n",
    "This makes data cleaning especially important and tricky.\n",
    "\n",
    "You'll also want to take into account that some demographic groups will make purchases even if they don't receive an offer. From a business perspective, if a customer is going to make a 10 dollar purchase without an offer anyway, you wouldn't want to send a buy 10 dollars get 2 dollars off offer. You'll want to try to assess what a certain demographic group will buy when not receiving any offers.\n",
    "\n",
    "### Final Advice\n",
    "\n",
    "Because this is a capstone project, you are free to analyze the data any way you see fit. For example, you could build a machine learning model that predicts how much someone will spend based on demographics and offer type. Or you could build a model that predicts whether or not someone will respond to an offer. Or, you don't need to build a machine learning model at all. You could develop a set of heuristics that determine what offer you should send to each customer (i.e., 75 percent of women customers who were 35 years old responded to offer A vs 40 percent from the same demographic to offer B, so send offer A)."
   ]
  },
  {
   "cell_type": "markdown",
   "metadata": {},
   "source": [
    "# Data Sets\n",
    "\n",
    "The data is contained in three files:\n",
    "\n",
    "* portfolio.json - containing offer ids and meta data about each offer (duration, type, etc.)\n",
    "* profile.json - demographic data for each customer\n",
    "* transcript.json - records for transactions, offers received, offers viewed, and offers completed\n",
    "\n",
    "Here is the schema and explanation of each variable in the files:\n",
    "\n",
    "**portfolio.json**\n",
    "* id (string) - offer id\n",
    "* offer_type (string) - type of offer ie BOGO, discount, informational\n",
    "* difficulty (int) - minimum required spend to complete an offer\n",
    "* reward (int) - reward given for completing an offer\n",
    "* duration (int) - time for offer to be open, in days\n",
    "* channels (list of strings)\n",
    "\n",
    "**profile.json**\n",
    "* age (int) - age of the customer \n",
    "* became_member_on (int) - date when customer created an app account\n",
    "* gender (str) - gender of the customer (note some entries contain 'O' for other rather than M or F)\n",
    "* id (str) - customer id\n",
    "* income (float) - customer's income\n",
    "\n",
    "**transcript.json**\n",
    "* event (str) - record description (ie transaction, offer received, offer viewed, etc.)\n",
    "* person (str) - customer id\n",
    "* time (int) - time in hours since start of test. The data begins at time t=0\n",
    "* value - (dict of strings) - either an offer id or transaction amount depending on the record"
   ]
  },
  {
   "cell_type": "code",
   "execution_count": 1,
   "metadata": {},
   "outputs": [],
   "source": [
    "#code to ignore warning \n",
    "import warnings\n",
    "warnings.filterwarnings(\"ignore\")"
   ]
  },
  {
   "cell_type": "code",
   "execution_count": 2,
   "metadata": {},
   "outputs": [
    {
     "name": "stderr",
     "output_type": "stream",
     "text": [
      "[nltk_data] Downloading package punkt to\n",
      "[nltk_data]     C:\\Users\\bloom\\AppData\\Roaming\\nltk_data...\n",
      "[nltk_data]   Package punkt is already up-to-date!\n",
      "[nltk_data] Downloading package wordnet to\n",
      "[nltk_data]     C:\\Users\\bloom\\AppData\\Roaming\\nltk_data...\n",
      "[nltk_data]   Package wordnet is already up-to-date!\n",
      "[nltk_data] Downloading package averaged_perceptron_tagger to\n",
      "[nltk_data]     C:\\Users\\bloom\\AppData\\Roaming\\nltk_data...\n",
      "[nltk_data]   Package averaged_perceptron_tagger is already up-to-\n",
      "[nltk_data]       date!\n",
      "[nltk_data] Downloading package stopwords to\n",
      "[nltk_data]     C:\\Users\\bloom\\AppData\\Roaming\\nltk_data...\n",
      "[nltk_data]   Package stopwords is already up-to-date!\n"
     ]
    },
    {
     "data": {
      "text/plain": [
       "True"
      ]
     },
     "execution_count": 2,
     "metadata": {},
     "output_type": "execute_result"
    }
   ],
   "source": [
    "import nltk\n",
    "nltk.download(['punkt', 'wordnet', 'averaged_perceptron_tagger', 'stopwords'])"
   ]
  },
  {
   "cell_type": "code",
   "execution_count": 3,
   "metadata": {},
   "outputs": [],
   "source": [
    "# import packages/libraries\n",
    "import pandas as pd\n",
    "import numpy as np\n",
    "import math\n",
    "import json\n",
    "import matplotlib.pyplot as plt\n",
    "%matplotlib inline\n",
    "import seaborn as sns\n",
    "import re\n",
    "import joblib\n",
    "import datetime\n",
    "import time\n",
    "\n",
    "from sklearn.preprocessing import LabelBinarizer, MultiLabelBinarizer\n",
    "from nltk.tokenize import word_tokenize\n",
    "from nltk.stem import PorterStemmer, WordNetLemmatizer\n",
    "from nltk.corpus import stopwords\n",
    "from sklearn.feature_extraction.text import CountVectorizer, TfidfTransformer, TfidfVectorizer\n",
    "from sklearn.feature_extraction import DictVectorizer\n",
    "from sklearn.ensemble import RandomForestClassifier, RandomForestRegressor\n",
    "from sklearn.model_selection import train_test_split, GridSearchCV\n",
    "from sklearn import preprocessing, multioutput\n",
    "from sklearn.base import BaseEstimator, TransformerMixin\n",
    "from sklearn.pipeline import Pipeline, FeatureUnion, make_pipeline\n",
    "from sklearn import multioutput\n",
    "from sklearn.metrics import confusion_matrix, precision_score, recall_score, accuracy_score, fbeta_score, make_scorer, classification_report\n",
    "from sklearn.linear_model import SGDClassifier\n",
    "from sklearn.svm import SVC, LinearSVC\n",
    "from sklearn.datasets import make_multilabel_classification\n",
    "from sklearn.multioutput import MultiOutputClassifier\n",
    "from sklearn.neighbors import KNeighborsClassifier\n",
    "from sklearn.multiclass import OneVsRestClassifier\n",
    "from sklearn.naive_bayes import MultinomialNB,BernoulliNB \n",
    "import pickle\n",
    "\n",
    "# display all the columns\n",
    "pd.set_option('display.width', 5000) \n",
    "pd.set_option('display.max_columns', 60) \n",
    "pd.set_option('display.max_colwidth', 500)"
   ]
  },
  {
   "cell_type": "code",
   "execution_count": 4,
   "metadata": {},
   "outputs": [],
   "source": [
    "# read in the json files\n",
    "portfolio = pd.read_json('portfolio.json', orient='records', lines=True)\n",
    "profile = pd.read_json('profile.json', orient='records', lines=True)\n",
    "transcript = pd.read_json('transcript.json', orient='records', lines=True)"
   ]
  },
  {
   "cell_type": "markdown",
   "metadata": {},
   "source": [
    "### Exploratory Data Analysis (EDA) - Portfolio"
   ]
  },
  {
   "cell_type": "code",
   "execution_count": 5,
   "metadata": {},
   "outputs": [
    {
     "data": {
      "text/html": [
       "<div>\n",
       "<style scoped>\n",
       "    .dataframe tbody tr th:only-of-type {\n",
       "        vertical-align: middle;\n",
       "    }\n",
       "\n",
       "    .dataframe tbody tr th {\n",
       "        vertical-align: top;\n",
       "    }\n",
       "\n",
       "    .dataframe thead th {\n",
       "        text-align: right;\n",
       "    }\n",
       "</style>\n",
       "<table border=\"1\" class=\"dataframe\">\n",
       "  <thead>\n",
       "    <tr style=\"text-align: right;\">\n",
       "      <th></th>\n",
       "      <th>reward</th>\n",
       "      <th>channels</th>\n",
       "      <th>difficulty</th>\n",
       "      <th>duration</th>\n",
       "      <th>offer_type</th>\n",
       "      <th>id</th>\n",
       "    </tr>\n",
       "  </thead>\n",
       "  <tbody>\n",
       "    <tr>\n",
       "      <th>0</th>\n",
       "      <td>10</td>\n",
       "      <td>[email, mobile, social]</td>\n",
       "      <td>10</td>\n",
       "      <td>7</td>\n",
       "      <td>bogo</td>\n",
       "      <td>ae264e3637204a6fb9bb56bc8210ddfd</td>\n",
       "    </tr>\n",
       "    <tr>\n",
       "      <th>1</th>\n",
       "      <td>10</td>\n",
       "      <td>[web, email, mobile, social]</td>\n",
       "      <td>10</td>\n",
       "      <td>5</td>\n",
       "      <td>bogo</td>\n",
       "      <td>4d5c57ea9a6940dd891ad53e9dbe8da0</td>\n",
       "    </tr>\n",
       "    <tr>\n",
       "      <th>2</th>\n",
       "      <td>0</td>\n",
       "      <td>[web, email, mobile]</td>\n",
       "      <td>0</td>\n",
       "      <td>4</td>\n",
       "      <td>informational</td>\n",
       "      <td>3f207df678b143eea3cee63160fa8bed</td>\n",
       "    </tr>\n",
       "    <tr>\n",
       "      <th>3</th>\n",
       "      <td>5</td>\n",
       "      <td>[web, email, mobile]</td>\n",
       "      <td>5</td>\n",
       "      <td>7</td>\n",
       "      <td>bogo</td>\n",
       "      <td>9b98b8c7a33c4b65b9aebfe6a799e6d9</td>\n",
       "    </tr>\n",
       "    <tr>\n",
       "      <th>4</th>\n",
       "      <td>5</td>\n",
       "      <td>[web, email]</td>\n",
       "      <td>20</td>\n",
       "      <td>10</td>\n",
       "      <td>discount</td>\n",
       "      <td>0b1e1539f2cc45b7b9fa7c272da2e1d7</td>\n",
       "    </tr>\n",
       "    <tr>\n",
       "      <th>5</th>\n",
       "      <td>3</td>\n",
       "      <td>[web, email, mobile, social]</td>\n",
       "      <td>7</td>\n",
       "      <td>7</td>\n",
       "      <td>discount</td>\n",
       "      <td>2298d6c36e964ae4a3e7e9706d1fb8c2</td>\n",
       "    </tr>\n",
       "    <tr>\n",
       "      <th>6</th>\n",
       "      <td>2</td>\n",
       "      <td>[web, email, mobile, social]</td>\n",
       "      <td>10</td>\n",
       "      <td>10</td>\n",
       "      <td>discount</td>\n",
       "      <td>fafdcd668e3743c1bb461111dcafc2a4</td>\n",
       "    </tr>\n",
       "    <tr>\n",
       "      <th>7</th>\n",
       "      <td>0</td>\n",
       "      <td>[email, mobile, social]</td>\n",
       "      <td>0</td>\n",
       "      <td>3</td>\n",
       "      <td>informational</td>\n",
       "      <td>5a8bc65990b245e5a138643cd4eb9837</td>\n",
       "    </tr>\n",
       "    <tr>\n",
       "      <th>8</th>\n",
       "      <td>5</td>\n",
       "      <td>[web, email, mobile, social]</td>\n",
       "      <td>5</td>\n",
       "      <td>5</td>\n",
       "      <td>bogo</td>\n",
       "      <td>f19421c1d4aa40978ebb69ca19b0e20d</td>\n",
       "    </tr>\n",
       "    <tr>\n",
       "      <th>9</th>\n",
       "      <td>2</td>\n",
       "      <td>[web, email, mobile]</td>\n",
       "      <td>10</td>\n",
       "      <td>7</td>\n",
       "      <td>discount</td>\n",
       "      <td>2906b810c7d4411798c6938adc9daaa5</td>\n",
       "    </tr>\n",
       "  </tbody>\n",
       "</table>\n",
       "</div>"
      ],
      "text/plain": [
       "   reward                      channels  difficulty  duration     offer_type                                id\n",
       "0      10       [email, mobile, social]          10         7           bogo  ae264e3637204a6fb9bb56bc8210ddfd\n",
       "1      10  [web, email, mobile, social]          10         5           bogo  4d5c57ea9a6940dd891ad53e9dbe8da0\n",
       "2       0          [web, email, mobile]           0         4  informational  3f207df678b143eea3cee63160fa8bed\n",
       "3       5          [web, email, mobile]           5         7           bogo  9b98b8c7a33c4b65b9aebfe6a799e6d9\n",
       "4       5                  [web, email]          20        10       discount  0b1e1539f2cc45b7b9fa7c272da2e1d7\n",
       "5       3  [web, email, mobile, social]           7         7       discount  2298d6c36e964ae4a3e7e9706d1fb8c2\n",
       "6       2  [web, email, mobile, social]          10        10       discount  fafdcd668e3743c1bb461111dcafc2a4\n",
       "7       0       [email, mobile, social]           0         3  informational  5a8bc65990b245e5a138643cd4eb9837\n",
       "8       5  [web, email, mobile, social]           5         5           bogo  f19421c1d4aa40978ebb69ca19b0e20d\n",
       "9       2          [web, email, mobile]          10         7       discount  2906b810c7d4411798c6938adc9daaa5"
      ]
     },
     "execution_count": 5,
     "metadata": {},
     "output_type": "execute_result"
    }
   ],
   "source": [
    "#look at the first ten rows of data\n",
    "portfolio.head(10)"
   ]
  },
  {
   "cell_type": "code",
   "execution_count": 6,
   "metadata": {},
   "outputs": [
    {
     "name": "stdout",
     "output_type": "stream",
     "text": [
      "<class 'pandas.core.frame.DataFrame'>\n",
      "RangeIndex: 10 entries, 0 to 9\n",
      "Data columns (total 6 columns):\n",
      " #   Column      Non-Null Count  Dtype \n",
      "---  ------      --------------  ----- \n",
      " 0   reward      10 non-null     int64 \n",
      " 1   channels    10 non-null     object\n",
      " 2   difficulty  10 non-null     int64 \n",
      " 3   duration    10 non-null     int64 \n",
      " 4   offer_type  10 non-null     object\n",
      " 5   id          10 non-null     object\n",
      "dtypes: int64(3), object(3)\n",
      "memory usage: 608.0+ bytes\n",
      "None\n",
      "---------------------------------\n",
      "Rows, Columns: (10, 6)\n"
     ]
    }
   ],
   "source": [
    "#look at columns and data\n",
    "print(portfolio.info())\n",
    "print('---------------------------------')\n",
    "#count the number of columns and rows\n",
    "row_col = portfolio.shape\n",
    "print('Rows, Columns: {}'.format(row_col))"
   ]
  },
  {
   "cell_type": "code",
   "execution_count": 7,
   "metadata": {},
   "outputs": [
    {
     "data": {
      "text/plain": [
       "reward        0.0\n",
       "channels      0.0\n",
       "difficulty    0.0\n",
       "duration      0.0\n",
       "offer_type    0.0\n",
       "id            0.0\n",
       "dtype: float64"
      ]
     },
     "execution_count": 7,
     "metadata": {},
     "output_type": "execute_result"
    }
   ],
   "source": [
    "#look for missing values\n",
    "portfolio.isnull().sum(axis=0) * 100 / portfolio.shape[0]"
   ]
  },
  {
   "cell_type": "code",
   "execution_count": 8,
   "metadata": {},
   "outputs": [
    {
     "data": {
      "text/plain": [
       "bogo             4\n",
       "discount         4\n",
       "informational    2\n",
       "Name: offer_type, dtype: int64"
      ]
     },
     "execution_count": 8,
     "metadata": {},
     "output_type": "execute_result"
    }
   ],
   "source": [
    "#look at the offer_type column\n",
    "portfolio['offer_type'].value_counts()"
   ]
  },
  {
   "cell_type": "markdown",
   "metadata": {},
   "source": [
    "### Clean Portfolio DataFrame\n",
    "- rename columns duration to days_duration, and id to id_offer\n",
    "- use one hot incode to create dummy columns for channels and offer_type\n",
    "- drop channels column"
   ]
  },
  {
   "cell_type": "code",
   "execution_count": 9,
   "metadata": {},
   "outputs": [
    {
     "name": "stdout",
     "output_type": "stream",
     "text": [
      "<class 'pandas.core.frame.DataFrame'>\n",
      "RangeIndex: 10 entries, 0 to 9\n",
      "Data columns (total 6 columns):\n",
      " #   Column         Non-Null Count  Dtype \n",
      "---  ------         --------------  ----- \n",
      " 0   reward         10 non-null     int64 \n",
      " 1   channels       10 non-null     object\n",
      " 2   difficulty     10 non-null     int64 \n",
      " 3   days_duration  10 non-null     int64 \n",
      " 4   offer_type     10 non-null     object\n",
      " 5   id_offer       10 non-null     object\n",
      "dtypes: int64(3), object(3)\n",
      "memory usage: 608.0+ bytes\n"
     ]
    }
   ],
   "source": [
    "#change column names\n",
    "portfolio.rename(columns = {'duration':'days_duration'}, inplace = True)\n",
    "portfolio.rename(columns = {'id':'id_offer'}, inplace = True)\n",
    "portfolio.info()"
   ]
  },
  {
   "cell_type": "code",
   "execution_count": 10,
   "metadata": {},
   "outputs": [
    {
     "name": "stdout",
     "output_type": "stream",
     "text": [
      "<class 'pandas.core.frame.DataFrame'>\n",
      "RangeIndex: 10 entries, 0 to 9\n",
      "Data columns (total 13 columns):\n",
      " #   Column         Non-Null Count  Dtype \n",
      "---  ------         --------------  ----- \n",
      " 0   reward         10 non-null     int64 \n",
      " 1   channels       10 non-null     object\n",
      " 2   difficulty     10 non-null     int64 \n",
      " 3   days_duration  10 non-null     int64 \n",
      " 4   offer_type     10 non-null     object\n",
      " 5   id_offer       10 non-null     object\n",
      " 6   bogo           10 non-null     int32 \n",
      " 7   discount       10 non-null     int32 \n",
      " 8   informational  10 non-null     int32 \n",
      " 9   email          10 non-null     int32 \n",
      " 10  mobile         10 non-null     int32 \n",
      " 11  social         10 non-null     int32 \n",
      " 12  web            10 non-null     int32 \n",
      "dtypes: int32(7), int64(3), object(3)\n",
      "memory usage: 888.0+ bytes\n"
     ]
    }
   ],
   "source": [
    "#one hot encode offer_type\n",
    "offertype = pd.get_dummies(portfolio['offer_type']).astype(int)\n",
    "\n",
    "#one hot encode channels\n",
    "mlb = MultiLabelBinarizer()\n",
    "mlb.fit(portfolio['channels'])\n",
    "\n",
    "channels = pd.DataFrame(mlb.transform(portfolio['channels']), columns = mlb.classes_).astype(int)\n",
    "\n",
    "#add the new columns\n",
    "portfolio = pd.concat([portfolio, offertype, channels], axis=1)\n",
    "\n",
    "portfolio.info()"
   ]
  },
  {
   "cell_type": "code",
   "execution_count": 11,
   "metadata": {},
   "outputs": [],
   "source": [
    "portfolio.drop('channels', axis = 1, inplace = True)"
   ]
  },
  {
   "cell_type": "code",
   "execution_count": 12,
   "metadata": {},
   "outputs": [
    {
     "data": {
      "text/html": [
       "<div>\n",
       "<style scoped>\n",
       "    .dataframe tbody tr th:only-of-type {\n",
       "        vertical-align: middle;\n",
       "    }\n",
       "\n",
       "    .dataframe tbody tr th {\n",
       "        vertical-align: top;\n",
       "    }\n",
       "\n",
       "    .dataframe thead th {\n",
       "        text-align: right;\n",
       "    }\n",
       "</style>\n",
       "<table border=\"1\" class=\"dataframe\">\n",
       "  <thead>\n",
       "    <tr style=\"text-align: right;\">\n",
       "      <th></th>\n",
       "      <th>id_offer</th>\n",
       "      <th>difficulty</th>\n",
       "      <th>days_duration</th>\n",
       "      <th>offer_type</th>\n",
       "      <th>bogo</th>\n",
       "      <th>discount</th>\n",
       "      <th>informational</th>\n",
       "      <th>email</th>\n",
       "      <th>mobile</th>\n",
       "      <th>social</th>\n",
       "      <th>web</th>\n",
       "    </tr>\n",
       "  </thead>\n",
       "  <tbody>\n",
       "    <tr>\n",
       "      <th>0</th>\n",
       "      <td>ae264e3637204a6fb9bb56bc8210ddfd</td>\n",
       "      <td>10</td>\n",
       "      <td>7</td>\n",
       "      <td>bogo</td>\n",
       "      <td>1</td>\n",
       "      <td>0</td>\n",
       "      <td>0</td>\n",
       "      <td>1</td>\n",
       "      <td>1</td>\n",
       "      <td>1</td>\n",
       "      <td>0</td>\n",
       "    </tr>\n",
       "    <tr>\n",
       "      <th>1</th>\n",
       "      <td>4d5c57ea9a6940dd891ad53e9dbe8da0</td>\n",
       "      <td>10</td>\n",
       "      <td>5</td>\n",
       "      <td>bogo</td>\n",
       "      <td>1</td>\n",
       "      <td>0</td>\n",
       "      <td>0</td>\n",
       "      <td>1</td>\n",
       "      <td>1</td>\n",
       "      <td>1</td>\n",
       "      <td>1</td>\n",
       "    </tr>\n",
       "    <tr>\n",
       "      <th>2</th>\n",
       "      <td>3f207df678b143eea3cee63160fa8bed</td>\n",
       "      <td>0</td>\n",
       "      <td>4</td>\n",
       "      <td>informational</td>\n",
       "      <td>0</td>\n",
       "      <td>0</td>\n",
       "      <td>1</td>\n",
       "      <td>1</td>\n",
       "      <td>1</td>\n",
       "      <td>0</td>\n",
       "      <td>1</td>\n",
       "    </tr>\n",
       "    <tr>\n",
       "      <th>3</th>\n",
       "      <td>9b98b8c7a33c4b65b9aebfe6a799e6d9</td>\n",
       "      <td>5</td>\n",
       "      <td>7</td>\n",
       "      <td>bogo</td>\n",
       "      <td>1</td>\n",
       "      <td>0</td>\n",
       "      <td>0</td>\n",
       "      <td>1</td>\n",
       "      <td>1</td>\n",
       "      <td>0</td>\n",
       "      <td>1</td>\n",
       "    </tr>\n",
       "    <tr>\n",
       "      <th>4</th>\n",
       "      <td>0b1e1539f2cc45b7b9fa7c272da2e1d7</td>\n",
       "      <td>20</td>\n",
       "      <td>10</td>\n",
       "      <td>discount</td>\n",
       "      <td>0</td>\n",
       "      <td>1</td>\n",
       "      <td>0</td>\n",
       "      <td>1</td>\n",
       "      <td>0</td>\n",
       "      <td>0</td>\n",
       "      <td>1</td>\n",
       "    </tr>\n",
       "  </tbody>\n",
       "</table>\n",
       "</div>"
      ],
      "text/plain": [
       "                           id_offer  difficulty  days_duration     offer_type  bogo  discount  informational  email  mobile  social  web\n",
       "0  ae264e3637204a6fb9bb56bc8210ddfd          10              7           bogo     1         0              0      1       1       1    0\n",
       "1  4d5c57ea9a6940dd891ad53e9dbe8da0          10              5           bogo     1         0              0      1       1       1    1\n",
       "2  3f207df678b143eea3cee63160fa8bed           0              4  informational     0         0              1      1       1       0    1\n",
       "3  9b98b8c7a33c4b65b9aebfe6a799e6d9           5              7           bogo     1         0              0      1       1       0    1\n",
       "4  0b1e1539f2cc45b7b9fa7c272da2e1d7          20             10       discount     0         1              0      1       0       0    1"
      ]
     },
     "execution_count": 12,
     "metadata": {},
     "output_type": "execute_result"
    }
   ],
   "source": [
    "#reorder columns\n",
    "col_reorder = ['id_offer',\n",
    "             'difficulty',\n",
    "             'days_duration',\n",
    "             'offer_type',\n",
    "             'bogo',\n",
    "             'discount',\n",
    "             'informational',\n",
    "             'email',\n",
    "             'mobile',\n",
    "             'social',\n",
    "             'web']\n",
    "portfolio = portfolio[col_reorder]\n",
    "portfolio.head()"
   ]
  },
  {
   "cell_type": "markdown",
   "metadata": {},
   "source": [
    "### EDA - Profile"
   ]
  },
  {
   "cell_type": "code",
   "execution_count": 13,
   "metadata": {},
   "outputs": [
    {
     "data": {
      "text/html": [
       "<div>\n",
       "<style scoped>\n",
       "    .dataframe tbody tr th:only-of-type {\n",
       "        vertical-align: middle;\n",
       "    }\n",
       "\n",
       "    .dataframe tbody tr th {\n",
       "        vertical-align: top;\n",
       "    }\n",
       "\n",
       "    .dataframe thead th {\n",
       "        text-align: right;\n",
       "    }\n",
       "</style>\n",
       "<table border=\"1\" class=\"dataframe\">\n",
       "  <thead>\n",
       "    <tr style=\"text-align: right;\">\n",
       "      <th></th>\n",
       "      <th>gender</th>\n",
       "      <th>age</th>\n",
       "      <th>id</th>\n",
       "      <th>became_member_on</th>\n",
       "      <th>income</th>\n",
       "    </tr>\n",
       "  </thead>\n",
       "  <tbody>\n",
       "    <tr>\n",
       "      <th>0</th>\n",
       "      <td>None</td>\n",
       "      <td>118</td>\n",
       "      <td>68be06ca386d4c31939f3a4f0e3dd783</td>\n",
       "      <td>20170212</td>\n",
       "      <td>NaN</td>\n",
       "    </tr>\n",
       "    <tr>\n",
       "      <th>1</th>\n",
       "      <td>F</td>\n",
       "      <td>55</td>\n",
       "      <td>0610b486422d4921ae7d2bf64640c50b</td>\n",
       "      <td>20170715</td>\n",
       "      <td>112000.0</td>\n",
       "    </tr>\n",
       "    <tr>\n",
       "      <th>2</th>\n",
       "      <td>None</td>\n",
       "      <td>118</td>\n",
       "      <td>38fe809add3b4fcf9315a9694bb96ff5</td>\n",
       "      <td>20180712</td>\n",
       "      <td>NaN</td>\n",
       "    </tr>\n",
       "    <tr>\n",
       "      <th>3</th>\n",
       "      <td>F</td>\n",
       "      <td>75</td>\n",
       "      <td>78afa995795e4d85b5d9ceeca43f5fef</td>\n",
       "      <td>20170509</td>\n",
       "      <td>100000.0</td>\n",
       "    </tr>\n",
       "    <tr>\n",
       "      <th>4</th>\n",
       "      <td>None</td>\n",
       "      <td>118</td>\n",
       "      <td>a03223e636434f42ac4c3df47e8bac43</td>\n",
       "      <td>20170804</td>\n",
       "      <td>NaN</td>\n",
       "    </tr>\n",
       "  </tbody>\n",
       "</table>\n",
       "</div>"
      ],
      "text/plain": [
       "  gender  age                                id  became_member_on    income\n",
       "0   None  118  68be06ca386d4c31939f3a4f0e3dd783          20170212       NaN\n",
       "1      F   55  0610b486422d4921ae7d2bf64640c50b          20170715  112000.0\n",
       "2   None  118  38fe809add3b4fcf9315a9694bb96ff5          20180712       NaN\n",
       "3      F   75  78afa995795e4d85b5d9ceeca43f5fef          20170509  100000.0\n",
       "4   None  118  a03223e636434f42ac4c3df47e8bac43          20170804       NaN"
      ]
     },
     "execution_count": 13,
     "metadata": {},
     "output_type": "execute_result"
    }
   ],
   "source": [
    "#look at the first five rows of data\n",
    "profile.head()"
   ]
  },
  {
   "cell_type": "code",
   "execution_count": 14,
   "metadata": {},
   "outputs": [
    {
     "name": "stdout",
     "output_type": "stream",
     "text": [
      "<class 'pandas.core.frame.DataFrame'>\n",
      "RangeIndex: 17000 entries, 0 to 16999\n",
      "Data columns (total 5 columns):\n",
      " #   Column            Non-Null Count  Dtype  \n",
      "---  ------            --------------  -----  \n",
      " 0   gender            14825 non-null  object \n",
      " 1   age               17000 non-null  int64  \n",
      " 2   id                17000 non-null  object \n",
      " 3   became_member_on  17000 non-null  int64  \n",
      " 4   income            14825 non-null  float64\n",
      "dtypes: float64(1), int64(2), object(2)\n",
      "memory usage: 664.2+ KB\n",
      "None\n",
      "---------------------------------\n",
      "Rows, Columns: (17000, 5)\n"
     ]
    }
   ],
   "source": [
    "#look at columns and data\n",
    "print(profile.info())\n",
    "print('---------------------------------')\n",
    "#count the number of columns and rows\n",
    "row_col = profile.shape\n",
    "print('Rows, Columns: {}'.format(row_col))"
   ]
  },
  {
   "cell_type": "code",
   "execution_count": 15,
   "metadata": {},
   "outputs": [
    {
     "name": "stdout",
     "output_type": "stream",
     "text": [
      "Number of Null Values for Profile Columns\n",
      "gender              2175\n",
      "age                    0\n",
      "id                     0\n",
      "became_member_on       0\n",
      "income              2175\n",
      "dtype: int64\n"
     ]
    }
   ],
   "source": [
    "prof_null = profile.isnull().sum(axis=0)\n",
    "print('Number of Null Values for Profile Columns')\n",
    "print(prof_null)"
   ]
  },
  {
   "cell_type": "code",
   "execution_count": 16,
   "metadata": {},
   "outputs": [
    {
     "name": "stdout",
     "output_type": "stream",
     "text": [
      "Total Numerical Columns:  3\n",
      "--------------------------------\n",
      "Total Categorical Columns:  2\n"
     ]
    }
   ],
   "source": [
    "#determine which columns are numerical and categorical\n",
    "# Subset to a dataframe only holding the quantitative columns\n",
    "num_profile = profile.select_dtypes(include=['int64', 'float64']).copy()\n",
    "# Subset to a dataframe only holding the categorical columns\n",
    "cat_profile = profile.select_dtypes(include=['object']).copy()\n",
    "\n",
    "\n",
    "# Print how many numerical and categorical columns are in the dataframe\n",
    "print(\"Total Numerical Columns:  {}\".format(num_profile.shape[1]))\n",
    "print('--------------------------------')\n",
    "print(\"Total Categorical Columns:  {}\".format(cat_profile.shape[1]))"
   ]
  },
  {
   "cell_type": "markdown",
   "metadata": {},
   "source": [
    "### Clean Profile DataFrame\n",
    " - rename column id to id_person\n",
    " - create dt_membership as type date, then drop became_member_on\n",
    " - create yr_membership column as type int\n",
    " - drop records where age = 118\n",
    " - drop records where gender = 'O'\n",
    " - create gender_binary column  \n",
    " - remove columns with missing income\n",
    " - create age range column (age_range)\n",
    " - create dummy variables from age_range column"
   ]
  },
  {
   "cell_type": "code",
   "execution_count": 17,
   "metadata": {},
   "outputs": [],
   "source": [
    "# rename id to id_person\n",
    "profile.rename(columns = {'id':'id_person'}, inplace = True)"
   ]
  },
  {
   "cell_type": "code",
   "execution_count": 18,
   "metadata": {},
   "outputs": [
    {
     "name": "stdout",
     "output_type": "stream",
     "text": [
      "<class 'pandas.core.frame.DataFrame'>\n",
      "RangeIndex: 17000 entries, 0 to 16999\n",
      "Data columns (total 5 columns):\n",
      " #   Column         Non-Null Count  Dtype         \n",
      "---  ------         --------------  -----         \n",
      " 0   gender         14825 non-null  object        \n",
      " 1   age            17000 non-null  int64         \n",
      " 2   id_person      17000 non-null  object        \n",
      " 3   income         14825 non-null  float64       \n",
      " 4   dt_membership  17000 non-null  datetime64[ns]\n",
      "dtypes: datetime64[ns](1), float64(1), int64(1), object(2)\n",
      "memory usage: 664.2+ KB\n"
     ]
    }
   ],
   "source": [
    "#create datetime column \n",
    "profile['dt_membership'] = pd.to_datetime(profile['became_member_on'], format='%Y%m%d')\n",
    "#drop old column\n",
    "del profile['became_member_on']\n",
    "profile.info()"
   ]
  },
  {
   "cell_type": "code",
   "execution_count": 19,
   "metadata": {},
   "outputs": [
    {
     "name": "stdout",
     "output_type": "stream",
     "text": [
      "<class 'pandas.core.frame.DataFrame'>\n",
      "RangeIndex: 17000 entries, 0 to 16999\n",
      "Data columns (total 6 columns):\n",
      " #   Column         Non-Null Count  Dtype         \n",
      "---  ------         --------------  -----         \n",
      " 0   gender         14825 non-null  object        \n",
      " 1   age            17000 non-null  int64         \n",
      " 2   id_person      17000 non-null  object        \n",
      " 3   income         14825 non-null  float64       \n",
      " 4   dt_membership  17000 non-null  datetime64[ns]\n",
      " 5   yr_membership  17000 non-null  int64         \n",
      "dtypes: datetime64[ns](1), float64(1), int64(2), object(2)\n",
      "memory usage: 797.0+ KB\n"
     ]
    }
   ],
   "source": [
    "#create yr_membership column\n",
    "profile['yr_membership'] = profile['dt_membership'].dt.strftime('%Y').astype('int64')\n",
    "profile.info()"
   ]
  },
  {
   "cell_type": "code",
   "execution_count": 20,
   "metadata": {},
   "outputs": [
    {
     "data": {
      "text/html": [
       "<div>\n",
       "<style scoped>\n",
       "    .dataframe tbody tr th:only-of-type {\n",
       "        vertical-align: middle;\n",
       "    }\n",
       "\n",
       "    .dataframe tbody tr th {\n",
       "        vertical-align: top;\n",
       "    }\n",
       "\n",
       "    .dataframe thead th {\n",
       "        text-align: right;\n",
       "    }\n",
       "</style>\n",
       "<table border=\"1\" class=\"dataframe\">\n",
       "  <thead>\n",
       "    <tr style=\"text-align: right;\">\n",
       "      <th></th>\n",
       "      <th>gender</th>\n",
       "      <th>age</th>\n",
       "      <th>id_person</th>\n",
       "      <th>income</th>\n",
       "      <th>dt_membership</th>\n",
       "      <th>yr_membership</th>\n",
       "    </tr>\n",
       "  </thead>\n",
       "  <tbody>\n",
       "    <tr>\n",
       "      <th>0</th>\n",
       "      <td>None</td>\n",
       "      <td>NaN</td>\n",
       "      <td>68be06ca386d4c31939f3a4f0e3dd783</td>\n",
       "      <td>NaN</td>\n",
       "      <td>2017-02-12</td>\n",
       "      <td>2017</td>\n",
       "    </tr>\n",
       "    <tr>\n",
       "      <th>1</th>\n",
       "      <td>F</td>\n",
       "      <td>55.0</td>\n",
       "      <td>0610b486422d4921ae7d2bf64640c50b</td>\n",
       "      <td>112000.0</td>\n",
       "      <td>2017-07-15</td>\n",
       "      <td>2017</td>\n",
       "    </tr>\n",
       "    <tr>\n",
       "      <th>2</th>\n",
       "      <td>None</td>\n",
       "      <td>NaN</td>\n",
       "      <td>38fe809add3b4fcf9315a9694bb96ff5</td>\n",
       "      <td>NaN</td>\n",
       "      <td>2018-07-12</td>\n",
       "      <td>2018</td>\n",
       "    </tr>\n",
       "    <tr>\n",
       "      <th>3</th>\n",
       "      <td>F</td>\n",
       "      <td>75.0</td>\n",
       "      <td>78afa995795e4d85b5d9ceeca43f5fef</td>\n",
       "      <td>100000.0</td>\n",
       "      <td>2017-05-09</td>\n",
       "      <td>2017</td>\n",
       "    </tr>\n",
       "    <tr>\n",
       "      <th>4</th>\n",
       "      <td>None</td>\n",
       "      <td>NaN</td>\n",
       "      <td>a03223e636434f42ac4c3df47e8bac43</td>\n",
       "      <td>NaN</td>\n",
       "      <td>2017-08-04</td>\n",
       "      <td>2017</td>\n",
       "    </tr>\n",
       "  </tbody>\n",
       "</table>\n",
       "</div>"
      ],
      "text/plain": [
       "  gender   age                         id_person    income dt_membership  yr_membership\n",
       "0   None   NaN  68be06ca386d4c31939f3a4f0e3dd783       NaN    2017-02-12           2017\n",
       "1      F  55.0  0610b486422d4921ae7d2bf64640c50b  112000.0    2017-07-15           2017\n",
       "2   None   NaN  38fe809add3b4fcf9315a9694bb96ff5       NaN    2018-07-12           2018\n",
       "3      F  75.0  78afa995795e4d85b5d9ceeca43f5fef  100000.0    2017-05-09           2017\n",
       "4   None   NaN  a03223e636434f42ac4c3df47e8bac43       NaN    2017-08-04           2017"
      ]
     },
     "execution_count": 20,
     "metadata": {},
     "output_type": "execute_result"
    }
   ],
   "source": [
    "#remove records where age = 118\n",
    "profile['age'] = profile['age'].where(profile.age != 118).dropna(axis=0)\n",
    "profile.head()"
   ]
  },
  {
   "cell_type": "code",
   "execution_count": 21,
   "metadata": {},
   "outputs": [
    {
     "data": {
      "text/plain": [
       "M    8484\n",
       "F    6129\n",
       "O     212\n",
       "Name: gender, dtype: int64"
      ]
     },
     "execution_count": 21,
     "metadata": {},
     "output_type": "execute_result"
    }
   ],
   "source": [
    "#look at the values for gender\n",
    "profile['gender'].value_counts()"
   ]
  },
  {
   "cell_type": "code",
   "execution_count": 22,
   "metadata": {},
   "outputs": [
    {
     "name": "stdout",
     "output_type": "stream",
     "text": [
      "<class 'pandas.core.frame.DataFrame'>\n",
      "Int64Index: 14613 entries, 1 to 16999\n",
      "Data columns (total 6 columns):\n",
      " #   Column         Non-Null Count  Dtype         \n",
      "---  ------         --------------  -----         \n",
      " 0   gender         14613 non-null  object        \n",
      " 1   age            14613 non-null  float64       \n",
      " 2   id_person      14613 non-null  object        \n",
      " 3   income         14613 non-null  float64       \n",
      " 4   dt_membership  14613 non-null  datetime64[ns]\n",
      " 5   yr_membership  14613 non-null  int64         \n",
      "dtypes: datetime64[ns](1), float64(2), int64(1), object(2)\n",
      "memory usage: 799.1+ KB\n"
     ]
    }
   ],
   "source": [
    "#remove rows with missing income and gender = 'O'\n",
    "profile = profile[profile['income'].notnull()]\n",
    "profile = profile[profile['gender'] != 'O']\n",
    "profile.info()"
   ]
  },
  {
   "cell_type": "code",
   "execution_count": 23,
   "metadata": {},
   "outputs": [
    {
     "data": {
      "text/plain": [
       "1    8484\n",
       "0    6129\n",
       "Name: gender_binary, dtype: int64"
      ]
     },
     "execution_count": 23,
     "metadata": {},
     "output_type": "execute_result"
    }
   ],
   "source": [
    "#create gender binary column\n",
    "gender = {'M':1,'F':0}\n",
    "profile['gender_binary'] = [gender[x] for x in profile.gender]\n",
    "profile.gender_binary.value_counts()"
   ]
  },
  {
   "cell_type": "code",
   "execution_count": 24,
   "metadata": {},
   "outputs": [
    {
     "data": {
      "text/html": [
       "<div>\n",
       "<style scoped>\n",
       "    .dataframe tbody tr th:only-of-type {\n",
       "        vertical-align: middle;\n",
       "    }\n",
       "\n",
       "    .dataframe tbody tr th {\n",
       "        vertical-align: top;\n",
       "    }\n",
       "\n",
       "    .dataframe thead th {\n",
       "        text-align: right;\n",
       "    }\n",
       "</style>\n",
       "<table border=\"1\" class=\"dataframe\">\n",
       "  <thead>\n",
       "    <tr style=\"text-align: right;\">\n",
       "      <th></th>\n",
       "      <th>id_person</th>\n",
       "      <th>gender</th>\n",
       "      <th>age</th>\n",
       "      <th>income</th>\n",
       "      <th>dt_membership</th>\n",
       "      <th>yr_membership</th>\n",
       "      <th>gender_binary</th>\n",
       "    </tr>\n",
       "  </thead>\n",
       "  <tbody>\n",
       "    <tr>\n",
       "      <th>1</th>\n",
       "      <td>0610b486422d4921ae7d2bf64640c50b</td>\n",
       "      <td>F</td>\n",
       "      <td>55.0</td>\n",
       "      <td>112000.0</td>\n",
       "      <td>2017-07-15</td>\n",
       "      <td>2017</td>\n",
       "      <td>0</td>\n",
       "    </tr>\n",
       "    <tr>\n",
       "      <th>3</th>\n",
       "      <td>78afa995795e4d85b5d9ceeca43f5fef</td>\n",
       "      <td>F</td>\n",
       "      <td>75.0</td>\n",
       "      <td>100000.0</td>\n",
       "      <td>2017-05-09</td>\n",
       "      <td>2017</td>\n",
       "      <td>0</td>\n",
       "    </tr>\n",
       "    <tr>\n",
       "      <th>5</th>\n",
       "      <td>e2127556f4f64592b11af22de27a7932</td>\n",
       "      <td>M</td>\n",
       "      <td>68.0</td>\n",
       "      <td>70000.0</td>\n",
       "      <td>2018-04-26</td>\n",
       "      <td>2018</td>\n",
       "      <td>1</td>\n",
       "    </tr>\n",
       "    <tr>\n",
       "      <th>8</th>\n",
       "      <td>389bc3fa690240e798340f5a15918d5c</td>\n",
       "      <td>M</td>\n",
       "      <td>65.0</td>\n",
       "      <td>53000.0</td>\n",
       "      <td>2018-02-09</td>\n",
       "      <td>2018</td>\n",
       "      <td>1</td>\n",
       "    </tr>\n",
       "    <tr>\n",
       "      <th>12</th>\n",
       "      <td>2eeac8d8feae4a8cad5a6af0499a211d</td>\n",
       "      <td>M</td>\n",
       "      <td>58.0</td>\n",
       "      <td>51000.0</td>\n",
       "      <td>2017-11-11</td>\n",
       "      <td>2017</td>\n",
       "      <td>1</td>\n",
       "    </tr>\n",
       "  </tbody>\n",
       "</table>\n",
       "</div>"
      ],
      "text/plain": [
       "                           id_person gender   age    income dt_membership  yr_membership  gender_binary\n",
       "1   0610b486422d4921ae7d2bf64640c50b      F  55.0  112000.0    2017-07-15           2017              0\n",
       "3   78afa995795e4d85b5d9ceeca43f5fef      F  75.0  100000.0    2017-05-09           2017              0\n",
       "5   e2127556f4f64592b11af22de27a7932      M  68.0   70000.0    2018-04-26           2018              1\n",
       "8   389bc3fa690240e798340f5a15918d5c      M  65.0   53000.0    2018-02-09           2018              1\n",
       "12  2eeac8d8feae4a8cad5a6af0499a211d      M  58.0   51000.0    2017-11-11           2017              1"
      ]
     },
     "execution_count": 24,
     "metadata": {},
     "output_type": "execute_result"
    }
   ],
   "source": [
    "#reorder columns\n",
    "col_reorder = ['id_person',\n",
    "             'gender',\n",
    "             'age',\n",
    "             'income',\n",
    "             'dt_membership',\n",
    "             'yr_membership',\n",
    "             'gender_binary']\n",
    "profile = profile[col_reorder]\n",
    "profile.head()"
   ]
  },
  {
   "cell_type": "code",
   "execution_count": 25,
   "metadata": {},
   "outputs": [
    {
     "data": {
      "text/html": [
       "<div>\n",
       "<style scoped>\n",
       "    .dataframe tbody tr th:only-of-type {\n",
       "        vertical-align: middle;\n",
       "    }\n",
       "\n",
       "    .dataframe tbody tr th {\n",
       "        vertical-align: top;\n",
       "    }\n",
       "\n",
       "    .dataframe thead th {\n",
       "        text-align: right;\n",
       "    }\n",
       "</style>\n",
       "<table border=\"1\" class=\"dataframe\">\n",
       "  <thead>\n",
       "    <tr style=\"text-align: right;\">\n",
       "      <th></th>\n",
       "      <th>age</th>\n",
       "      <th>income</th>\n",
       "      <th>yr_membership</th>\n",
       "      <th>gender_binary</th>\n",
       "    </tr>\n",
       "  </thead>\n",
       "  <tbody>\n",
       "    <tr>\n",
       "      <th>count</th>\n",
       "      <td>14613.000000</td>\n",
       "      <td>14613.000000</td>\n",
       "      <td>14613.000000</td>\n",
       "      <td>14613.000000</td>\n",
       "    </tr>\n",
       "    <tr>\n",
       "      <th>mean</th>\n",
       "      <td>54.393417</td>\n",
       "      <td>65435.707931</td>\n",
       "      <td>2016.618696</td>\n",
       "      <td>0.580579</td>\n",
       "    </tr>\n",
       "    <tr>\n",
       "      <th>std</th>\n",
       "      <td>17.400201</td>\n",
       "      <td>21633.524110</td>\n",
       "      <td>1.199147</td>\n",
       "      <td>0.493481</td>\n",
       "    </tr>\n",
       "    <tr>\n",
       "      <th>min</th>\n",
       "      <td>18.000000</td>\n",
       "      <td>30000.000000</td>\n",
       "      <td>2013.000000</td>\n",
       "      <td>0.000000</td>\n",
       "    </tr>\n",
       "    <tr>\n",
       "      <th>25%</th>\n",
       "      <td>42.000000</td>\n",
       "      <td>49000.000000</td>\n",
       "      <td>2016.000000</td>\n",
       "      <td>0.000000</td>\n",
       "    </tr>\n",
       "    <tr>\n",
       "      <th>50%</th>\n",
       "      <td>55.000000</td>\n",
       "      <td>64000.000000</td>\n",
       "      <td>2017.000000</td>\n",
       "      <td>1.000000</td>\n",
       "    </tr>\n",
       "    <tr>\n",
       "      <th>75%</th>\n",
       "      <td>66.000000</td>\n",
       "      <td>80000.000000</td>\n",
       "      <td>2017.000000</td>\n",
       "      <td>1.000000</td>\n",
       "    </tr>\n",
       "    <tr>\n",
       "      <th>max</th>\n",
       "      <td>101.000000</td>\n",
       "      <td>120000.000000</td>\n",
       "      <td>2018.000000</td>\n",
       "      <td>1.000000</td>\n",
       "    </tr>\n",
       "  </tbody>\n",
       "</table>\n",
       "</div>"
      ],
      "text/plain": [
       "                age         income  yr_membership  gender_binary\n",
       "count  14613.000000   14613.000000   14613.000000   14613.000000\n",
       "mean      54.393417   65435.707931    2016.618696       0.580579\n",
       "std       17.400201   21633.524110       1.199147       0.493481\n",
       "min       18.000000   30000.000000    2013.000000       0.000000\n",
       "25%       42.000000   49000.000000    2016.000000       0.000000\n",
       "50%       55.000000   64000.000000    2017.000000       1.000000\n",
       "75%       66.000000   80000.000000    2017.000000       1.000000\n",
       "max      101.000000  120000.000000    2018.000000       1.000000"
      ]
     },
     "execution_count": 25,
     "metadata": {},
     "output_type": "execute_result"
    }
   ],
   "source": [
    "profile.describe()"
   ]
  },
  {
   "cell_type": "code",
   "execution_count": 26,
   "metadata": {},
   "outputs": [
    {
     "data": {
      "text/plain": [
       "2017    5510\n",
       "2018    3614\n",
       "2016    2992\n",
       "2015    1568\n",
       "2014     658\n",
       "2013     271\n",
       "Name: yr_membership, dtype: int64"
      ]
     },
     "execution_count": 26,
     "metadata": {},
     "output_type": "execute_result"
    }
   ],
   "source": [
    "profile.yr_membership.value_counts()"
   ]
  },
  {
   "cell_type": "code",
   "execution_count": 27,
   "metadata": {},
   "outputs": [],
   "source": [
    "#create age_range column\n",
    "age_range = []\n",
    "\n",
    "for row in profile.age:\n",
    "    if row in range(18,25):\n",
    "        age_range.append('18-24')\n",
    "    elif row in range(24,45):            \n",
    "        age_range.append('25-44')\n",
    "    elif row in range(45,65):\n",
    "        age_range.append('45-64')\n",
    "    elif row in range(65,85):\n",
    "        age_range.append('65-84')\n",
    "    elif row in range(0):\n",
    "        age_range.append('Unknown')\n",
    "    else:\n",
    "        age_range.append('85+')                \n",
    "profile['age_range'] = age_range  "
   ]
  },
  {
   "cell_type": "code",
   "execution_count": 28,
   "metadata": {},
   "outputs": [
    {
     "data": {
      "text/plain": [
       "45-64    6335\n",
       "65-84    3637\n",
       "25-44    3202\n",
       "18-24     867\n",
       "85+       572\n",
       "Name: age_range, dtype: int64"
      ]
     },
     "execution_count": 28,
     "metadata": {},
     "output_type": "execute_result"
    }
   ],
   "source": [
    "profile.age_range.value_counts()"
   ]
  },
  {
   "cell_type": "code",
   "execution_count": 29,
   "metadata": {},
   "outputs": [
    {
     "name": "stdout",
     "output_type": "stream",
     "text": [
      "<class 'pandas.core.frame.DataFrame'>\n",
      "Int64Index: 14613 entries, 1 to 16999\n",
      "Data columns (total 13 columns):\n",
      " #   Column         Non-Null Count  Dtype         \n",
      "---  ------         --------------  -----         \n",
      " 0   id_person      14613 non-null  object        \n",
      " 1   gender         14613 non-null  object        \n",
      " 2   age            14613 non-null  float64       \n",
      " 3   income         14613 non-null  float64       \n",
      " 4   dt_membership  14613 non-null  datetime64[ns]\n",
      " 5   yr_membership  14613 non-null  int64         \n",
      " 6   gender_binary  14613 non-null  int64         \n",
      " 7   age_range      14613 non-null  object        \n",
      " 8   18-24          14613 non-null  int32         \n",
      " 9   25-44          14613 non-null  int32         \n",
      " 10  45-64          14613 non-null  int32         \n",
      " 11  65-84          14613 non-null  int32         \n",
      " 12  85+            14613 non-null  int32         \n",
      "dtypes: datetime64[ns](1), float64(2), int32(5), int64(2), object(3)\n",
      "memory usage: 1.3+ MB\n"
     ]
    }
   ],
   "source": [
    "#Create dummy columns for age range\n",
    "#one hot encode offer_type\n",
    "agerange = pd.get_dummies(profile['age_range']).astype(int)\n",
    "\n",
    "#add the new columns\n",
    "profile = pd.concat([profile, agerange], axis=1)\n",
    "\n",
    "profile.info()"
   ]
  },
  {
   "cell_type": "markdown",
   "metadata": {},
   "source": [
    "#### Visualize profile"
   ]
  },
  {
   "cell_type": "code",
   "execution_count": 30,
   "metadata": {},
   "outputs": [
    {
     "data": {
      "image/png": "[encoded data removed]",
      "text/plain": [
       "<Figure size 432x288 with 1 Axes>"
      ]
     },
     "metadata": {
      "needs_background": "light"
     },
     "output_type": "display_data"
    }
   ],
   "source": [
    "#bar plot by age and gender\n",
    "df_copy = profile.copy()\n",
    "\n",
    "df_copy = sns.barplot(data=df_copy, \n",
    "                      x=\"gender\", \n",
    "                      y=\"age\")\n",
    "\n",
    "for p in df_copy.patches:\n",
    "    df_copy.annotate(str(int(p.get_height())), \n",
    "                     (p.get_x() + p.get_width() / 2., p.get_height()), \n",
    "                     ha='center', \n",
    "                     va='center', \n",
    "                     xytext=(0, 10), \n",
    "                     textcoords='offset points')    \n",
    "\n",
    "    \n",
    "plt.title('Starbucks Customers by Age and Gender')\n",
    "plt.xlabel('Gender')\n",
    "plt.ylabel('Age');"
   ]
  },
  {
   "cell_type": "code",
   "execution_count": 31,
   "metadata": {},
   "outputs": [
    {
     "data": {
      "image/png": "[encoded data removed]",
      "text/plain": [
       "<Figure size 576x432 with 1 Axes>"
      ]
     },
     "metadata": {},
     "output_type": "display_data"
    }
   ],
   "source": [
    "#bar plot by age and year\n",
    "\n",
    "df_copy = profile.copy().dropna()\n",
    "\n",
    "years = [2013, 2014, 2015, 2016, 2017, 2018]\n",
    "\n",
    "sns.set(style='darkgrid', \n",
    "        font_scale=1.2)\n",
    "\n",
    "plt.figure(figsize=(8, 6))\n",
    "\n",
    "df_copy=sns.barplot(x=\"yr_membership\",\n",
    "                    y=\"age\",\n",
    "                    data=df_copy,\n",
    "                    order=years,\n",
    "                    palette='Set3')\n",
    "\n",
    "for p in df_copy.patches:\n",
    "    df_copy.annotate(str(int(p.get_height())), \n",
    "                     (p.get_x() + p.get_width() / 2., p.get_height()), \n",
    "                     ha='center', \n",
    "                     va='center', \n",
    "                     xytext=(0, 10), \n",
    "                     textcoords='offset points')    \n",
    "\n",
    "plt.title(\"Starbucks Customers by Age and Membership Year\", y=1.02, fontsize=14)\n",
    "plt.xlabel(\"Year of Membership\", size=14)\n",
    "plt.ylabel(\"Age\", size=14)\n",
    "plt.show();"
   ]
  },
  {
   "cell_type": "code",
   "execution_count": 32,
   "metadata": {},
   "outputs": [
    {
     "data": {
      "image/png": "[encoded data removed]",
      "text/plain": [
       "<Figure size 720x360 with 1 Axes>"
      ]
     },
     "metadata": {},
     "output_type": "display_data"
    }
   ],
   "source": [
    "#plot the number of people by age range\n",
    "df_copy = profile.copy().dropna()\n",
    "\n",
    "ax = plt.figure(figsize=(10,5))\n",
    "sns.set(style='darkgrid', font_scale=1.2)\n",
    "ax = sns.countplot(x='age_range', data=df_copy).set_title('Number of people by age range')\n",
    "ax = plt.ylabel('Number of People')\n",
    "ax = plt.xlabel('Age Range')"
   ]
  },
  {
   "cell_type": "markdown",
   "metadata": {},
   "source": [
    "The age range with the highest number of customers is 45-64, followed by\n",
    " - 65-84\n",
    " - 25-44\n",
    " - 18-24\n",
    " - 85+"
   ]
  },
  {
   "cell_type": "markdown",
   "metadata": {},
   "source": [
    "### EDA - Transcripts"
   ]
  },
  {
   "cell_type": "code",
   "execution_count": 33,
   "metadata": {},
   "outputs": [
    {
     "data": {
      "text/html": [
       "<div>\n",
       "<style scoped>\n",
       "    .dataframe tbody tr th:only-of-type {\n",
       "        vertical-align: middle;\n",
       "    }\n",
       "\n",
       "    .dataframe tbody tr th {\n",
       "        vertical-align: top;\n",
       "    }\n",
       "\n",
       "    .dataframe thead th {\n",
       "        text-align: right;\n",
       "    }\n",
       "</style>\n",
       "<table border=\"1\" class=\"dataframe\">\n",
       "  <thead>\n",
       "    <tr style=\"text-align: right;\">\n",
       "      <th></th>\n",
       "      <th>person</th>\n",
       "      <th>event</th>\n",
       "      <th>value</th>\n",
       "      <th>time</th>\n",
       "    </tr>\n",
       "  </thead>\n",
       "  <tbody>\n",
       "    <tr>\n",
       "      <th>0</th>\n",
       "      <td>78afa995795e4d85b5d9ceeca43f5fef</td>\n",
       "      <td>offer received</td>\n",
       "      <td>{'offer id': '9b98b8c7a33c4b65b9aebfe6a799e6d9'}</td>\n",
       "      <td>0</td>\n",
       "    </tr>\n",
       "    <tr>\n",
       "      <th>1</th>\n",
       "      <td>a03223e636434f42ac4c3df47e8bac43</td>\n",
       "      <td>offer received</td>\n",
       "      <td>{'offer id': '0b1e1539f2cc45b7b9fa7c272da2e1d7'}</td>\n",
       "      <td>0</td>\n",
       "    </tr>\n",
       "    <tr>\n",
       "      <th>2</th>\n",
       "      <td>e2127556f4f64592b11af22de27a7932</td>\n",
       "      <td>offer received</td>\n",
       "      <td>{'offer id': '2906b810c7d4411798c6938adc9daaa5'}</td>\n",
       "      <td>0</td>\n",
       "    </tr>\n",
       "    <tr>\n",
       "      <th>3</th>\n",
       "      <td>8ec6ce2a7e7949b1bf142def7d0e0586</td>\n",
       "      <td>offer received</td>\n",
       "      <td>{'offer id': 'fafdcd668e3743c1bb461111dcafc2a4'}</td>\n",
       "      <td>0</td>\n",
       "    </tr>\n",
       "    <tr>\n",
       "      <th>4</th>\n",
       "      <td>68617ca6246f4fbc85e91a2a49552598</td>\n",
       "      <td>offer received</td>\n",
       "      <td>{'offer id': '4d5c57ea9a6940dd891ad53e9dbe8da0'}</td>\n",
       "      <td>0</td>\n",
       "    </tr>\n",
       "  </tbody>\n",
       "</table>\n",
       "</div>"
      ],
      "text/plain": [
       "                             person           event                                             value  time\n",
       "0  78afa995795e4d85b5d9ceeca43f5fef  offer received  {'offer id': '9b98b8c7a33c4b65b9aebfe6a799e6d9'}     0\n",
       "1  a03223e636434f42ac4c3df47e8bac43  offer received  {'offer id': '0b1e1539f2cc45b7b9fa7c272da2e1d7'}     0\n",
       "2  e2127556f4f64592b11af22de27a7932  offer received  {'offer id': '2906b810c7d4411798c6938adc9daaa5'}     0\n",
       "3  8ec6ce2a7e7949b1bf142def7d0e0586  offer received  {'offer id': 'fafdcd668e3743c1bb461111dcafc2a4'}     0\n",
       "4  68617ca6246f4fbc85e91a2a49552598  offer received  {'offer id': '4d5c57ea9a6940dd891ad53e9dbe8da0'}     0"
      ]
     },
     "execution_count": 33,
     "metadata": {},
     "output_type": "execute_result"
    }
   ],
   "source": [
    "#look at the first five rows of data\n",
    "transcript.head()"
   ]
  },
  {
   "cell_type": "code",
   "execution_count": 34,
   "metadata": {},
   "outputs": [
    {
     "name": "stdout",
     "output_type": "stream",
     "text": [
      "<class 'pandas.core.frame.DataFrame'>\n",
      "RangeIndex: 306534 entries, 0 to 306533\n",
      "Data columns (total 4 columns):\n",
      " #   Column  Non-Null Count   Dtype \n",
      "---  ------  --------------   ----- \n",
      " 0   person  306534 non-null  object\n",
      " 1   event   306534 non-null  object\n",
      " 2   value   306534 non-null  object\n",
      " 3   time    306534 non-null  int64 \n",
      "dtypes: int64(1), object(3)\n",
      "memory usage: 9.4+ MB\n"
     ]
    }
   ],
   "source": [
    "transcript.info()"
   ]
  },
  {
   "cell_type": "code",
   "execution_count": 35,
   "metadata": {},
   "outputs": [
    {
     "name": "stdout",
     "output_type": "stream",
     "text": [
      "<class 'pandas.core.frame.DataFrame'>\n",
      "RangeIndex: 306534 entries, 0 to 306533\n",
      "Data columns (total 4 columns):\n",
      " #   Column  Non-Null Count   Dtype \n",
      "---  ------  --------------   ----- \n",
      " 0   person  306534 non-null  object\n",
      " 1   event   306534 non-null  object\n",
      " 2   value   306534 non-null  object\n",
      " 3   time    306534 non-null  int64 \n",
      "dtypes: int64(1), object(3)\n",
      "memory usage: 9.4+ MB\n",
      "None\n",
      "---------------------------------\n",
      "Rows, Columns: (306534, 4)\n"
     ]
    }
   ],
   "source": [
    "#look at columns and data\n",
    "print(transcript.info())\n",
    "print('---------------------------------')\n",
    "#count the number of columns and rows\n",
    "row_col = transcript.shape\n",
    "print('Rows, Columns: {}'.format(row_col))"
   ]
  },
  {
   "cell_type": "code",
   "execution_count": 36,
   "metadata": {},
   "outputs": [
    {
     "data": {
      "text/plain": [
       "transaction        138953\n",
       "offer received      76277\n",
       "offer viewed        57725\n",
       "offer completed     33579\n",
       "Name: event, dtype: int64"
      ]
     },
     "execution_count": 36,
     "metadata": {},
     "output_type": "execute_result"
    }
   ],
   "source": [
    "transcript['event'].value_counts()"
   ]
  },
  {
   "cell_type": "code",
   "execution_count": 37,
   "metadata": {},
   "outputs": [
    {
     "name": "stdout",
     "output_type": "stream",
     "text": [
      "Event Counts\n",
      "             event   count\n",
      "0      transaction  138953\n",
      "1   offer received   76277\n",
      "2     offer viewed   57725\n",
      "3  offer completed   33579\n",
      "------------------------\n",
      "Total:\n",
      "306534\n"
     ]
    }
   ],
   "source": [
    "event_counts = transcript['event'].value_counts()\n",
    "event_counts = pd.DataFrame(list(zip(event_counts.index.values, event_counts)),\n",
    "                            columns=['event', 'count'])\n",
    "print('Event Counts')\n",
    "print(event_counts)\n",
    "print('------------------------')\n",
    "print('Total:')\n",
    "print(event_counts['count'].sum())"
   ]
  },
  {
   "cell_type": "code",
   "execution_count": 38,
   "metadata": {},
   "outputs": [
    {
     "data": {
      "text/plain": [
       "person    0.0\n",
       "event     0.0\n",
       "value     0.0\n",
       "time      0.0\n",
       "dtype: float64"
      ]
     },
     "execution_count": 38,
     "metadata": {},
     "output_type": "execute_result"
    }
   ],
   "source": [
    "#look for missing values\n",
    "transcript.isnull().sum(axis=0) * 100 / transcript.shape[0]"
   ]
  },
  {
   "cell_type": "markdown",
   "metadata": {},
   "source": [
    "### Clean transcript DataFrame\n",
    " - rename column person to id\n",
    " - create new colum days_time\n",
    " - remove an id if it is not part of the profile df\n",
    " - create column id_offer to join later\n",
    " - reorder colums to have id_person and id_offer the first two columns\n",
    " - create dummy columns from event\n",
    " - create a DataFrame with the transaction data"
   ]
  },
  {
   "cell_type": "code",
   "execution_count": 39,
   "metadata": {},
   "outputs": [],
   "source": [
    "# rename person to id_person\n",
    "transcript.rename(columns = {'person':'id_person'}, inplace = True)"
   ]
  },
  {
   "cell_type": "code",
   "execution_count": 40,
   "metadata": {},
   "outputs": [
    {
     "data": {
      "text/html": [
       "<div>\n",
       "<style scoped>\n",
       "    .dataframe tbody tr th:only-of-type {\n",
       "        vertical-align: middle;\n",
       "    }\n",
       "\n",
       "    .dataframe tbody tr th {\n",
       "        vertical-align: top;\n",
       "    }\n",
       "\n",
       "    .dataframe thead th {\n",
       "        text-align: right;\n",
       "    }\n",
       "</style>\n",
       "<table border=\"1\" class=\"dataframe\">\n",
       "  <thead>\n",
       "    <tr style=\"text-align: right;\">\n",
       "      <th></th>\n",
       "      <th>id_person</th>\n",
       "      <th>event</th>\n",
       "      <th>value</th>\n",
       "      <th>time</th>\n",
       "      <th>days_time</th>\n",
       "    </tr>\n",
       "  </thead>\n",
       "  <tbody>\n",
       "    <tr>\n",
       "      <th>0</th>\n",
       "      <td>78afa995795e4d85b5d9ceeca43f5fef</td>\n",
       "      <td>offer received</td>\n",
       "      <td>{'offer id': '9b98b8c7a33c4b65b9aebfe6a799e6d9'}</td>\n",
       "      <td>0</td>\n",
       "      <td>0</td>\n",
       "    </tr>\n",
       "    <tr>\n",
       "      <th>1</th>\n",
       "      <td>a03223e636434f42ac4c3df47e8bac43</td>\n",
       "      <td>offer received</td>\n",
       "      <td>{'offer id': '0b1e1539f2cc45b7b9fa7c272da2e1d7'}</td>\n",
       "      <td>0</td>\n",
       "      <td>0</td>\n",
       "    </tr>\n",
       "    <tr>\n",
       "      <th>2</th>\n",
       "      <td>e2127556f4f64592b11af22de27a7932</td>\n",
       "      <td>offer received</td>\n",
       "      <td>{'offer id': '2906b810c7d4411798c6938adc9daaa5'}</td>\n",
       "      <td>0</td>\n",
       "      <td>0</td>\n",
       "    </tr>\n",
       "    <tr>\n",
       "      <th>3</th>\n",
       "      <td>8ec6ce2a7e7949b1bf142def7d0e0586</td>\n",
       "      <td>offer received</td>\n",
       "      <td>{'offer id': 'fafdcd668e3743c1bb461111dcafc2a4'}</td>\n",
       "      <td>0</td>\n",
       "      <td>0</td>\n",
       "    </tr>\n",
       "    <tr>\n",
       "      <th>4</th>\n",
       "      <td>68617ca6246f4fbc85e91a2a49552598</td>\n",
       "      <td>offer received</td>\n",
       "      <td>{'offer id': '4d5c57ea9a6940dd891ad53e9dbe8da0'}</td>\n",
       "      <td>0</td>\n",
       "      <td>0</td>\n",
       "    </tr>\n",
       "  </tbody>\n",
       "</table>\n",
       "</div>"
      ],
      "text/plain": [
       "                          id_person           event                                             value  time  days_time\n",
       "0  78afa995795e4d85b5d9ceeca43f5fef  offer received  {'offer id': '9b98b8c7a33c4b65b9aebfe6a799e6d9'}     0          0\n",
       "1  a03223e636434f42ac4c3df47e8bac43  offer received  {'offer id': '0b1e1539f2cc45b7b9fa7c272da2e1d7'}     0          0\n",
       "2  e2127556f4f64592b11af22de27a7932  offer received  {'offer id': '2906b810c7d4411798c6938adc9daaa5'}     0          0\n",
       "3  8ec6ce2a7e7949b1bf142def7d0e0586  offer received  {'offer id': 'fafdcd668e3743c1bb461111dcafc2a4'}     0          0\n",
       "4  68617ca6246f4fbc85e91a2a49552598  offer received  {'offer id': '4d5c57ea9a6940dd891ad53e9dbe8da0'}     0          0"
      ]
     },
     "execution_count": 40,
     "metadata": {},
     "output_type": "execute_result"
    }
   ],
   "source": [
    "#create a new column for days\n",
    "transcript['days_time'] = transcript['time'] // 24.0\n",
    "transcript.head()"
   ]
  },
  {
   "cell_type": "code",
   "execution_count": 41,
   "metadata": {},
   "outputs": [
    {
     "name": "stdout",
     "output_type": "stream",
     "text": [
      "<class 'pandas.core.frame.DataFrame'>\n",
      "Int64Index: 268791 entries, 0 to 306532\n",
      "Data columns (total 5 columns):\n",
      " #   Column     Non-Null Count   Dtype \n",
      "---  ------     --------------   ----- \n",
      " 0   id_person  268791 non-null  object\n",
      " 1   event      268791 non-null  object\n",
      " 2   value      268791 non-null  object\n",
      " 3   time       268791 non-null  int64 \n",
      " 4   days_time  268791 non-null  int64 \n",
      "dtypes: int64(2), object(3)\n",
      "memory usage: 12.3+ MB\n"
     ]
    }
   ],
   "source": [
    "# remove an id if it is not part of the profile df\n",
    "remove_ids = transcript['id_person'].isin(profile['id_person'])\n",
    "transcript = transcript[remove_ids]\n",
    "transcript.info()"
   ]
  },
  {
   "cell_type": "code",
   "execution_count": 42,
   "metadata": {},
   "outputs": [
    {
     "name": "stdout",
     "output_type": "stream",
     "text": [
      "<class 'pandas.core.frame.DataFrame'>\n",
      "Int64Index: 268791 entries, 0 to 306532\n",
      "Data columns (total 6 columns):\n",
      " #   Column     Non-Null Count   Dtype \n",
      "---  ------     --------------   ----- \n",
      " 0   id_person  268791 non-null  object\n",
      " 1   event      268791 non-null  object\n",
      " 2   value      268791 non-null  object\n",
      " 3   time       268791 non-null  int64 \n",
      " 4   days_time  268791 non-null  int64 \n",
      " 5   id_offer   268791 non-null  object\n",
      "dtypes: int64(2), object(4)\n",
      "memory usage: 14.4+ MB\n"
     ]
    }
   ],
   "source": [
    "#Create id_offer to join later\n",
    "event_offer1 = re.compile('^offer (?:received|viewed|completed)')\n",
    "event_offer2 = lambda x: event_offer1.match(x) != None\n",
    "offers = transcript.event.apply(event_offer2)\n",
    "transcript['id_offer'] =transcript.value.apply(lambda x: list(x.values())[0])\n",
    "transcript.info()"
   ]
  },
  {
   "cell_type": "code",
   "execution_count": 43,
   "metadata": {},
   "outputs": [
    {
     "data": {
      "text/html": [
       "<div>\n",
       "<style scoped>\n",
       "    .dataframe tbody tr th:only-of-type {\n",
       "        vertical-align: middle;\n",
       "    }\n",
       "\n",
       "    .dataframe tbody tr th {\n",
       "        vertical-align: top;\n",
       "    }\n",
       "\n",
       "    .dataframe thead th {\n",
       "        text-align: right;\n",
       "    }\n",
       "</style>\n",
       "<table border=\"1\" class=\"dataframe\">\n",
       "  <thead>\n",
       "    <tr style=\"text-align: right;\">\n",
       "      <th></th>\n",
       "      <th>id_person</th>\n",
       "      <th>id_offer</th>\n",
       "      <th>event</th>\n",
       "      <th>value</th>\n",
       "      <th>time</th>\n",
       "      <th>days_time</th>\n",
       "    </tr>\n",
       "  </thead>\n",
       "  <tbody>\n",
       "    <tr>\n",
       "      <th>0</th>\n",
       "      <td>78afa995795e4d85b5d9ceeca43f5fef</td>\n",
       "      <td>9b98b8c7a33c4b65b9aebfe6a799e6d9</td>\n",
       "      <td>offer received</td>\n",
       "      <td>{'offer id': '9b98b8c7a33c4b65b9aebfe6a799e6d9'}</td>\n",
       "      <td>0</td>\n",
       "      <td>0</td>\n",
       "    </tr>\n",
       "    <tr>\n",
       "      <th>2</th>\n",
       "      <td>e2127556f4f64592b11af22de27a7932</td>\n",
       "      <td>2906b810c7d4411798c6938adc9daaa5</td>\n",
       "      <td>offer received</td>\n",
       "      <td>{'offer id': '2906b810c7d4411798c6938adc9daaa5'}</td>\n",
       "      <td>0</td>\n",
       "      <td>0</td>\n",
       "    </tr>\n",
       "    <tr>\n",
       "      <th>5</th>\n",
       "      <td>389bc3fa690240e798340f5a15918d5c</td>\n",
       "      <td>f19421c1d4aa40978ebb69ca19b0e20d</td>\n",
       "      <td>offer received</td>\n",
       "      <td>{'offer id': 'f19421c1d4aa40978ebb69ca19b0e20d'}</td>\n",
       "      <td>0</td>\n",
       "      <td>0</td>\n",
       "    </tr>\n",
       "    <tr>\n",
       "      <th>7</th>\n",
       "      <td>2eeac8d8feae4a8cad5a6af0499a211d</td>\n",
       "      <td>3f207df678b143eea3cee63160fa8bed</td>\n",
       "      <td>offer received</td>\n",
       "      <td>{'offer id': '3f207df678b143eea3cee63160fa8bed'}</td>\n",
       "      <td>0</td>\n",
       "      <td>0</td>\n",
       "    </tr>\n",
       "    <tr>\n",
       "      <th>8</th>\n",
       "      <td>aa4862eba776480b8bb9c68455b8c2e1</td>\n",
       "      <td>0b1e1539f2cc45b7b9fa7c272da2e1d7</td>\n",
       "      <td>offer received</td>\n",
       "      <td>{'offer id': '0b1e1539f2cc45b7b9fa7c272da2e1d7'}</td>\n",
       "      <td>0</td>\n",
       "      <td>0</td>\n",
       "    </tr>\n",
       "  </tbody>\n",
       "</table>\n",
       "</div>"
      ],
      "text/plain": [
       "                          id_person                          id_offer           event                                             value  time  days_time\n",
       "0  78afa995795e4d85b5d9ceeca43f5fef  9b98b8c7a33c4b65b9aebfe6a799e6d9  offer received  {'offer id': '9b98b8c7a33c4b65b9aebfe6a799e6d9'}     0          0\n",
       "2  e2127556f4f64592b11af22de27a7932  2906b810c7d4411798c6938adc9daaa5  offer received  {'offer id': '2906b810c7d4411798c6938adc9daaa5'}     0          0\n",
       "5  389bc3fa690240e798340f5a15918d5c  f19421c1d4aa40978ebb69ca19b0e20d  offer received  {'offer id': 'f19421c1d4aa40978ebb69ca19b0e20d'}     0          0\n",
       "7  2eeac8d8feae4a8cad5a6af0499a211d  3f207df678b143eea3cee63160fa8bed  offer received  {'offer id': '3f207df678b143eea3cee63160fa8bed'}     0          0\n",
       "8  aa4862eba776480b8bb9c68455b8c2e1  0b1e1539f2cc45b7b9fa7c272da2e1d7  offer received  {'offer id': '0b1e1539f2cc45b7b9fa7c272da2e1d7'}     0          0"
      ]
     },
     "execution_count": 43,
     "metadata": {},
     "output_type": "execute_result"
    }
   ],
   "source": [
    "#reorder columns\n",
    "col_reorder = ['id_person',\n",
    "             'id_offer',\n",
    "             'event',\n",
    "             'value',\n",
    "             'time',\n",
    "             'days_time']\n",
    "transcript = transcript[col_reorder]\n",
    "transcript.head()"
   ]
  },
  {
   "cell_type": "code",
   "execution_count": 44,
   "metadata": {},
   "outputs": [
    {
     "data": {
      "text/html": [
       "<div>\n",
       "<style scoped>\n",
       "    .dataframe tbody tr th:only-of-type {\n",
       "        vertical-align: middle;\n",
       "    }\n",
       "\n",
       "    .dataframe tbody tr th {\n",
       "        vertical-align: top;\n",
       "    }\n",
       "\n",
       "    .dataframe thead th {\n",
       "        text-align: right;\n",
       "    }\n",
       "</style>\n",
       "<table border=\"1\" class=\"dataframe\">\n",
       "  <thead>\n",
       "    <tr style=\"text-align: right;\">\n",
       "      <th></th>\n",
       "      <th>id_person</th>\n",
       "      <th>id_offer</th>\n",
       "      <th>event</th>\n",
       "      <th>value</th>\n",
       "      <th>time</th>\n",
       "      <th>days_time</th>\n",
       "      <th>offer_completed</th>\n",
       "      <th>offer_received</th>\n",
       "      <th>offer_viewed</th>\n",
       "      <th>transaction</th>\n",
       "    </tr>\n",
       "  </thead>\n",
       "  <tbody>\n",
       "    <tr>\n",
       "      <th>0</th>\n",
       "      <td>78afa995795e4d85b5d9ceeca43f5fef</td>\n",
       "      <td>9b98b8c7a33c4b65b9aebfe6a799e6d9</td>\n",
       "      <td>offer_received</td>\n",
       "      <td>{'offer id': '9b98b8c7a33c4b65b9aebfe6a799e6d9'}</td>\n",
       "      <td>0</td>\n",
       "      <td>0</td>\n",
       "      <td>0</td>\n",
       "      <td>1</td>\n",
       "      <td>0</td>\n",
       "      <td>0</td>\n",
       "    </tr>\n",
       "    <tr>\n",
       "      <th>2</th>\n",
       "      <td>e2127556f4f64592b11af22de27a7932</td>\n",
       "      <td>2906b810c7d4411798c6938adc9daaa5</td>\n",
       "      <td>offer_received</td>\n",
       "      <td>{'offer id': '2906b810c7d4411798c6938adc9daaa5'}</td>\n",
       "      <td>0</td>\n",
       "      <td>0</td>\n",
       "      <td>0</td>\n",
       "      <td>1</td>\n",
       "      <td>0</td>\n",
       "      <td>0</td>\n",
       "    </tr>\n",
       "    <tr>\n",
       "      <th>5</th>\n",
       "      <td>389bc3fa690240e798340f5a15918d5c</td>\n",
       "      <td>f19421c1d4aa40978ebb69ca19b0e20d</td>\n",
       "      <td>offer_received</td>\n",
       "      <td>{'offer id': 'f19421c1d4aa40978ebb69ca19b0e20d'}</td>\n",
       "      <td>0</td>\n",
       "      <td>0</td>\n",
       "      <td>0</td>\n",
       "      <td>1</td>\n",
       "      <td>0</td>\n",
       "      <td>0</td>\n",
       "    </tr>\n",
       "    <tr>\n",
       "      <th>7</th>\n",
       "      <td>2eeac8d8feae4a8cad5a6af0499a211d</td>\n",
       "      <td>3f207df678b143eea3cee63160fa8bed</td>\n",
       "      <td>offer_received</td>\n",
       "      <td>{'offer id': '3f207df678b143eea3cee63160fa8bed'}</td>\n",
       "      <td>0</td>\n",
       "      <td>0</td>\n",
       "      <td>0</td>\n",
       "      <td>1</td>\n",
       "      <td>0</td>\n",
       "      <td>0</td>\n",
       "    </tr>\n",
       "    <tr>\n",
       "      <th>8</th>\n",
       "      <td>aa4862eba776480b8bb9c68455b8c2e1</td>\n",
       "      <td>0b1e1539f2cc45b7b9fa7c272da2e1d7</td>\n",
       "      <td>offer_received</td>\n",
       "      <td>{'offer id': '0b1e1539f2cc45b7b9fa7c272da2e1d7'}</td>\n",
       "      <td>0</td>\n",
       "      <td>0</td>\n",
       "      <td>0</td>\n",
       "      <td>1</td>\n",
       "      <td>0</td>\n",
       "      <td>0</td>\n",
       "    </tr>\n",
       "  </tbody>\n",
       "</table>\n",
       "</div>"
      ],
      "text/plain": [
       "                          id_person                          id_offer           event                                             value  time  days_time  offer_completed  offer_received  offer_viewed  transaction\n",
       "0  78afa995795e4d85b5d9ceeca43f5fef  9b98b8c7a33c4b65b9aebfe6a799e6d9  offer_received  {'offer id': '9b98b8c7a33c4b65b9aebfe6a799e6d9'}     0          0                0               1             0            0\n",
       "2  e2127556f4f64592b11af22de27a7932  2906b810c7d4411798c6938adc9daaa5  offer_received  {'offer id': '2906b810c7d4411798c6938adc9daaa5'}     0          0                0               1             0            0\n",
       "5  389bc3fa690240e798340f5a15918d5c  f19421c1d4aa40978ebb69ca19b0e20d  offer_received  {'offer id': 'f19421c1d4aa40978ebb69ca19b0e20d'}     0          0                0               1             0            0\n",
       "7  2eeac8d8feae4a8cad5a6af0499a211d  3f207df678b143eea3cee63160fa8bed  offer_received  {'offer id': '3f207df678b143eea3cee63160fa8bed'}     0          0                0               1             0            0\n",
       "8  aa4862eba776480b8bb9c68455b8c2e1  0b1e1539f2cc45b7b9fa7c272da2e1d7  offer_received  {'offer id': '0b1e1539f2cc45b7b9fa7c272da2e1d7'}     0          0                0               1             0            0"
      ]
     },
     "execution_count": 44,
     "metadata": {},
     "output_type": "execute_result"
    }
   ],
   "source": [
    "#create dummy columns from event\n",
    "transcript['event'] = transcript['event'].str.replace(' ', '_')\n",
    "dummy_col = pd.get_dummies(transcript.event)\n",
    "transcript = pd.concat([transcript, dummy_col], axis=1,sort=False)\n",
    "transcript.head()"
   ]
  },
  {
   "cell_type": "code",
   "execution_count": 45,
   "metadata": {},
   "outputs": [
    {
     "name": "stdout",
     "output_type": "stream",
     "text": [
      "<class 'pandas.core.frame.DataFrame'>\n",
      "Int64Index: 122176 entries, 12654 to 306532\n",
      "Data columns (total 4 columns):\n",
      " #   Column     Non-Null Count   Dtype \n",
      "---  ------     --------------   ----- \n",
      " 0   id_person  122176 non-null  object\n",
      " 1   amount     122176 non-null  object\n",
      " 2   time       122176 non-null  int64 \n",
      " 3   days_time  122176 non-null  int64 \n",
      "dtypes: int64(2), object(2)\n",
      "memory usage: 4.7+ MB\n"
     ]
    }
   ],
   "source": [
    "#create a dataframe with only transaction data\n",
    "df_transaction = transcript[transcript.event == 'transaction']\n",
    "#select transaction related columns \n",
    "df_transaction = df_transaction[['id_person', 'id_offer', 'time','days_time']]\n",
    "#rename id_offer to amount\n",
    "df_transaction.rename(columns = {'id_offer':'amount'}, inplace = True)\n",
    "df_transaction.info()"
   ]
  },
  {
   "cell_type": "code",
   "execution_count": 46,
   "metadata": {},
   "outputs": [
    {
     "data": {
      "text/html": [
       "<div>\n",
       "<style scoped>\n",
       "    .dataframe tbody tr th:only-of-type {\n",
       "        vertical-align: middle;\n",
       "    }\n",
       "\n",
       "    .dataframe tbody tr th {\n",
       "        vertical-align: top;\n",
       "    }\n",
       "\n",
       "    .dataframe thead th {\n",
       "        text-align: right;\n",
       "    }\n",
       "</style>\n",
       "<table border=\"1\" class=\"dataframe\">\n",
       "  <thead>\n",
       "    <tr style=\"text-align: right;\">\n",
       "      <th></th>\n",
       "      <th>id_person</th>\n",
       "      <th>amount</th>\n",
       "      <th>time</th>\n",
       "      <th>days_time</th>\n",
       "    </tr>\n",
       "  </thead>\n",
       "  <tbody>\n",
       "    <tr>\n",
       "      <th>12654</th>\n",
       "      <td>02c083884c7d45b39cc68e1314fec56c</td>\n",
       "      <td>0.83</td>\n",
       "      <td>0</td>\n",
       "      <td>0</td>\n",
       "    </tr>\n",
       "    <tr>\n",
       "      <th>12657</th>\n",
       "      <td>9fa9ae8f57894cc9a3b8a9bbe0fc1b2f</td>\n",
       "      <td>34.56</td>\n",
       "      <td>0</td>\n",
       "      <td>0</td>\n",
       "    </tr>\n",
       "    <tr>\n",
       "      <th>12659</th>\n",
       "      <td>54890f68699049c2a04d415abc25e717</td>\n",
       "      <td>13.23</td>\n",
       "      <td>0</td>\n",
       "      <td>0</td>\n",
       "    </tr>\n",
       "    <tr>\n",
       "      <th>12670</th>\n",
       "      <td>b2f1cd155b864803ad8334cdf13c4bd2</td>\n",
       "      <td>19.51</td>\n",
       "      <td>0</td>\n",
       "      <td>0</td>\n",
       "    </tr>\n",
       "    <tr>\n",
       "      <th>12671</th>\n",
       "      <td>fe97aa22dd3e48c8b143116a8403dd52</td>\n",
       "      <td>18.97</td>\n",
       "      <td>0</td>\n",
       "      <td>0</td>\n",
       "    </tr>\n",
       "  </tbody>\n",
       "</table>\n",
       "</div>"
      ],
      "text/plain": [
       "                              id_person amount  time  days_time\n",
       "12654  02c083884c7d45b39cc68e1314fec56c   0.83     0          0\n",
       "12657  9fa9ae8f57894cc9a3b8a9bbe0fc1b2f  34.56     0          0\n",
       "12659  54890f68699049c2a04d415abc25e717  13.23     0          0\n",
       "12670  b2f1cd155b864803ad8334cdf13c4bd2  19.51     0          0\n",
       "12671  fe97aa22dd3e48c8b143116a8403dd52  18.97     0          0"
      ]
     },
     "execution_count": 46,
     "metadata": {},
     "output_type": "execute_result"
    }
   ],
   "source": [
    "df_transaction.head()"
   ]
  },
  {
   "cell_type": "code",
   "execution_count": 47,
   "metadata": {},
   "outputs": [
    {
     "data": {
      "text/html": [
       "<div>\n",
       "<style scoped>\n",
       "    .dataframe tbody tr th:only-of-type {\n",
       "        vertical-align: middle;\n",
       "    }\n",
       "\n",
       "    .dataframe tbody tr th {\n",
       "        vertical-align: top;\n",
       "    }\n",
       "\n",
       "    .dataframe thead th {\n",
       "        text-align: right;\n",
       "    }\n",
       "</style>\n",
       "<table border=\"1\" class=\"dataframe\">\n",
       "  <thead>\n",
       "    <tr style=\"text-align: right;\">\n",
       "      <th></th>\n",
       "      <th>id_person</th>\n",
       "      <th>id_offer</th>\n",
       "      <th>event</th>\n",
       "      <th>time</th>\n",
       "      <th>days_time</th>\n",
       "      <th>offer_completed</th>\n",
       "      <th>offer_received</th>\n",
       "      <th>offer_viewed</th>\n",
       "    </tr>\n",
       "  </thead>\n",
       "  <tbody>\n",
       "    <tr>\n",
       "      <th>0</th>\n",
       "      <td>78afa995795e4d85b5d9ceeca43f5fef</td>\n",
       "      <td>9b98b8c7a33c4b65b9aebfe6a799e6d9</td>\n",
       "      <td>offer_received</td>\n",
       "      <td>0</td>\n",
       "      <td>0</td>\n",
       "      <td>0</td>\n",
       "      <td>1</td>\n",
       "      <td>0</td>\n",
       "    </tr>\n",
       "    <tr>\n",
       "      <th>2</th>\n",
       "      <td>e2127556f4f64592b11af22de27a7932</td>\n",
       "      <td>2906b810c7d4411798c6938adc9daaa5</td>\n",
       "      <td>offer_received</td>\n",
       "      <td>0</td>\n",
       "      <td>0</td>\n",
       "      <td>0</td>\n",
       "      <td>1</td>\n",
       "      <td>0</td>\n",
       "    </tr>\n",
       "    <tr>\n",
       "      <th>5</th>\n",
       "      <td>389bc3fa690240e798340f5a15918d5c</td>\n",
       "      <td>f19421c1d4aa40978ebb69ca19b0e20d</td>\n",
       "      <td>offer_received</td>\n",
       "      <td>0</td>\n",
       "      <td>0</td>\n",
       "      <td>0</td>\n",
       "      <td>1</td>\n",
       "      <td>0</td>\n",
       "    </tr>\n",
       "    <tr>\n",
       "      <th>7</th>\n",
       "      <td>2eeac8d8feae4a8cad5a6af0499a211d</td>\n",
       "      <td>3f207df678b143eea3cee63160fa8bed</td>\n",
       "      <td>offer_received</td>\n",
       "      <td>0</td>\n",
       "      <td>0</td>\n",
       "      <td>0</td>\n",
       "      <td>1</td>\n",
       "      <td>0</td>\n",
       "    </tr>\n",
       "    <tr>\n",
       "      <th>8</th>\n",
       "      <td>aa4862eba776480b8bb9c68455b8c2e1</td>\n",
       "      <td>0b1e1539f2cc45b7b9fa7c272da2e1d7</td>\n",
       "      <td>offer_received</td>\n",
       "      <td>0</td>\n",
       "      <td>0</td>\n",
       "      <td>0</td>\n",
       "      <td>1</td>\n",
       "      <td>0</td>\n",
       "    </tr>\n",
       "  </tbody>\n",
       "</table>\n",
       "</div>"
      ],
      "text/plain": [
       "                          id_person                          id_offer           event  time  days_time  offer_completed  offer_received  offer_viewed\n",
       "0  78afa995795e4d85b5d9ceeca43f5fef  9b98b8c7a33c4b65b9aebfe6a799e6d9  offer_received     0          0                0               1             0\n",
       "2  e2127556f4f64592b11af22de27a7932  2906b810c7d4411798c6938adc9daaa5  offer_received     0          0                0               1             0\n",
       "5  389bc3fa690240e798340f5a15918d5c  f19421c1d4aa40978ebb69ca19b0e20d  offer_received     0          0                0               1             0\n",
       "7  2eeac8d8feae4a8cad5a6af0499a211d  3f207df678b143eea3cee63160fa8bed  offer_received     0          0                0               1             0\n",
       "8  aa4862eba776480b8bb9c68455b8c2e1  0b1e1539f2cc45b7b9fa7c272da2e1d7  offer_received     0          0                0               1             0"
      ]
     },
     "execution_count": 47,
     "metadata": {},
     "output_type": "execute_result"
    }
   ],
   "source": [
    "#drop value and transaction column\n",
    "transcript.drop(columns='value', inplace=True)\n",
    "transcript.drop(columns='transaction', inplace=True)\n",
    "\n",
    "transcript.head()"
   ]
  },
  {
   "cell_type": "code",
   "execution_count": 48,
   "metadata": {},
   "outputs": [
    {
     "data": {
      "text/plain": [
       "transaction        122176\n",
       "offer_received      65585\n",
       "offer_viewed        49087\n",
       "offer_completed     31943\n",
       "Name: event, dtype: int64"
      ]
     },
     "execution_count": 48,
     "metadata": {},
     "output_type": "execute_result"
    }
   ],
   "source": [
    "transcript['event'].value_counts()"
   ]
  },
  {
   "cell_type": "code",
   "execution_count": 49,
   "metadata": {},
   "outputs": [
    {
     "data": {
      "text/plain": [
       "offer_received     65585\n",
       "offer_viewed       49087\n",
       "offer_completed    31943\n",
       "Name: event, dtype: int64"
      ]
     },
     "execution_count": 49,
     "metadata": {},
     "output_type": "execute_result"
    }
   ],
   "source": [
    "#Drop event type transaction from transcript DataFrame\n",
    "transcript = transcript[transcript.event != 'transaction']\n",
    "transcript['event'].value_counts()"
   ]
  },
  {
   "cell_type": "markdown",
   "metadata": {},
   "source": [
    "#### Visualize transcript"
   ]
  },
  {
   "cell_type": "code",
   "execution_count": 50,
   "metadata": {},
   "outputs": [
    {
     "data": {
      "image/png": "[encoded data removed]",
      "text/plain": [
       "<Figure size 432x288 with 1 Axes>"
      ]
     },
     "metadata": {},
     "output_type": "display_data"
    }
   ],
   "source": [
    "#bar plot by age and membership year\n",
    "df_copy = transcript.copy().dropna()\n",
    "\n",
    "df_copy = sns.barplot(data=df_copy, \n",
    "                      x=\"event\", \n",
    "                      y=\"days_time\")\n",
    "\n",
    "for p in df_copy.patches:\n",
    "    df_copy.annotate(str(int(p.get_height())), \n",
    "                     (p.get_x() + p.get_width() / 2., p.get_height()), \n",
    "                     ha='center', \n",
    "                     va='center', \n",
    "                     xytext=(0, 10), \n",
    "                     textcoords='offset points')    \n",
    "\n",
    "    \n",
    "plt.title(\"Starbuck Customer's by Event Type and Days\")\n",
    "plt.xlabel('Event Type')\n",
    "plt.ylabel('Days');"
   ]
  },
  {
   "cell_type": "code",
   "execution_count": 51,
   "metadata": {},
   "outputs": [],
   "source": [
    "transcript.to_csv('transcript.csv')"
   ]
  },
  {
   "cell_type": "markdown",
   "metadata": {},
   "source": [
    "### EDA Portfolio, Profile, Transcript\n",
    " - Combine Portfolio, Profile, and Transcript DataFrames\n",
    " - Create age range column (age_range)\n",
    " - Drop rows with missing values\n",
    " - Continue with EDA"
   ]
  },
  {
   "cell_type": "code",
   "execution_count": 52,
   "metadata": {},
   "outputs": [
    {
     "name": "stdout",
     "output_type": "stream",
     "text": [
      "Portfolio-------------------------------\n",
      "<class 'pandas.core.frame.DataFrame'>\n",
      "RangeIndex: 10 entries, 0 to 9\n",
      "Data columns (total 11 columns):\n",
      " #   Column         Non-Null Count  Dtype \n",
      "---  ------         --------------  ----- \n",
      " 0   id_offer       10 non-null     object\n",
      " 1   difficulty     10 non-null     int64 \n",
      " 2   days_duration  10 non-null     int64 \n",
      " 3   offer_type     10 non-null     object\n",
      " 4   bogo           10 non-null     int32 \n",
      " 5   discount       10 non-null     int32 \n",
      " 6   informational  10 non-null     int32 \n",
      " 7   email          10 non-null     int32 \n",
      " 8   mobile         10 non-null     int32 \n",
      " 9   social         10 non-null     int32 \n",
      " 10  web            10 non-null     int32 \n",
      "dtypes: int32(7), int64(2), object(2)\n",
      "memory usage: 728.0+ bytes\n",
      "None\n",
      "----------------------------------------\n",
      "Profile---------------------------------\n",
      "<class 'pandas.core.frame.DataFrame'>\n",
      "Int64Index: 14613 entries, 1 to 16999\n",
      "Data columns (total 13 columns):\n",
      " #   Column         Non-Null Count  Dtype         \n",
      "---  ------         --------------  -----         \n",
      " 0   id_person      14613 non-null  object        \n",
      " 1   gender         14613 non-null  object        \n",
      " 2   age            14613 non-null  float64       \n",
      " 3   income         14613 non-null  float64       \n",
      " 4   dt_membership  14613 non-null  datetime64[ns]\n",
      " 5   yr_membership  14613 non-null  int64         \n",
      " 6   gender_binary  14613 non-null  int64         \n",
      " 7   age_range      14613 non-null  object        \n",
      " 8   18-24          14613 non-null  int32         \n",
      " 9   25-44          14613 non-null  int32         \n",
      " 10  45-64          14613 non-null  int32         \n",
      " 11  65-84          14613 non-null  int32         \n",
      " 12  85+            14613 non-null  int32         \n",
      "dtypes: datetime64[ns](1), float64(2), int32(5), int64(2), object(3)\n",
      "memory usage: 1.9+ MB\n",
      "None\n",
      "----------------------------------------\n",
      "Transcript------------------------------\n",
      "<class 'pandas.core.frame.DataFrame'>\n",
      "Int64Index: 146615 entries, 0 to 306527\n",
      "Data columns (total 8 columns):\n",
      " #   Column           Non-Null Count   Dtype \n",
      "---  ------           --------------   ----- \n",
      " 0   id_person        146615 non-null  object\n",
      " 1   id_offer         146615 non-null  object\n",
      " 2   event            146615 non-null  object\n",
      " 3   time             146615 non-null  int64 \n",
      " 4   days_time        146615 non-null  int64 \n",
      " 5   offer_completed  146615 non-null  uint8 \n",
      " 6   offer_received   146615 non-null  uint8 \n",
      " 7   offer_viewed     146615 non-null  uint8 \n",
      "dtypes: int64(2), object(3), uint8(3)\n",
      "memory usage: 7.1+ MB\n",
      "None\n"
     ]
    }
   ],
   "source": [
    "print('Portfolio-------------------------------')\n",
    "print(portfolio.info())\n",
    "print('----------------------------------------')\n",
    "print('Profile---------------------------------')\n",
    "print(profile.info())\n",
    "print('----------------------------------------')\n",
    "print('Transcript------------------------------')\n",
    "print(transcript.info())"
   ]
  },
  {
   "cell_type": "code",
   "execution_count": 53,
   "metadata": {},
   "outputs": [
    {
     "name": "stdout",
     "output_type": "stream",
     "text": [
      "<class 'pandas.core.frame.DataFrame'>\n",
      "Int64Index: 146615 entries, 0 to 146614\n",
      "Data columns (total 30 columns):\n",
      " #   Column           Non-Null Count   Dtype         \n",
      "---  ------           --------------   -----         \n",
      " 0   id_person        146615 non-null  object        \n",
      " 1   id_offer         146615 non-null  object        \n",
      " 2   event            146615 non-null  object        \n",
      " 3   time             146615 non-null  int64         \n",
      " 4   days_time        146615 non-null  int64         \n",
      " 5   offer_completed  146615 non-null  uint8         \n",
      " 6   offer_received   146615 non-null  uint8         \n",
      " 7   offer_viewed     146615 non-null  uint8         \n",
      " 8   gender           146615 non-null  object        \n",
      " 9   age              146615 non-null  float64       \n",
      " 10  income           146615 non-null  float64       \n",
      " 11  dt_membership    146615 non-null  datetime64[ns]\n",
      " 12  yr_membership    146615 non-null  int64         \n",
      " 13  gender_binary    146615 non-null  int64         \n",
      " 14  age_range        146615 non-null  object        \n",
      " 15  18-24            146615 non-null  int32         \n",
      " 16  25-44            146615 non-null  int32         \n",
      " 17  45-64            146615 non-null  int32         \n",
      " 18  65-84            146615 non-null  int32         \n",
      " 19  85+              146615 non-null  int32         \n",
      " 20  difficulty       146615 non-null  int64         \n",
      " 21  days_duration    146615 non-null  int64         \n",
      " 22  offer_type       146615 non-null  object        \n",
      " 23  bogo             146615 non-null  int32         \n",
      " 24  discount         146615 non-null  int32         \n",
      " 25  informational    146615 non-null  int32         \n",
      " 26  email            146615 non-null  int32         \n",
      " 27  mobile           146615 non-null  int32         \n",
      " 28  social           146615 non-null  int32         \n",
      " 29  web              146615 non-null  int32         \n",
      "dtypes: datetime64[ns](1), float64(2), int32(12), int64(6), object(6), uint8(3)\n",
      "memory usage: 25.0+ MB\n"
     ]
    }
   ],
   "source": [
    "#create master DataFrame from transcript, profile, and portfolio DataFrame\n",
    "starbucks_merged = pd.merge(transcript, \n",
    "                            profile, \n",
    "                            how='left',\n",
    "                            on='id_person')\n",
    "\n",
    "starbucks_master = pd.merge(starbucks_merged, \n",
    "                            portfolio, \n",
    "                            how='left', \n",
    "                            on='id_offer')\n",
    "starbucks_master.info()"
   ]
  },
  {
   "cell_type": "code",
   "execution_count": 54,
   "metadata": {},
   "outputs": [
    {
     "name": "stdout",
     "output_type": "stream",
     "text": [
      "<class 'pandas.core.frame.DataFrame'>\n",
      "Int64Index: 146615 entries, 0 to 146614\n",
      "Data columns (total 30 columns):\n",
      " #   Column           Non-Null Count   Dtype         \n",
      "---  ------           --------------   -----         \n",
      " 0   id_person        146615 non-null  object        \n",
      " 1   id_offer         146615 non-null  object        \n",
      " 2   event            146615 non-null  object        \n",
      " 3   time             146615 non-null  int64         \n",
      " 4   days_time        146615 non-null  int64         \n",
      " 5   offer_completed  146615 non-null  int64         \n",
      " 6   offer_received   146615 non-null  int64         \n",
      " 7   offer_viewed     146615 non-null  int64         \n",
      " 8   gender           146615 non-null  object        \n",
      " 9   age              146615 non-null  float64       \n",
      " 10  income           146615 non-null  float64       \n",
      " 11  dt_membership    146615 non-null  datetime64[ns]\n",
      " 12  yr_membership    146615 non-null  int64         \n",
      " 13  gender_binary    146615 non-null  int64         \n",
      " 14  age_range        146615 non-null  object        \n",
      " 15  18-24            146615 non-null  int64         \n",
      " 16  25-44            146615 non-null  int64         \n",
      " 17  45-64            146615 non-null  int64         \n",
      " 18  65-84            146615 non-null  int64         \n",
      " 19  85+              146615 non-null  int64         \n",
      " 20  difficulty       146615 non-null  int64         \n",
      " 21  days_duration    146615 non-null  int64         \n",
      " 22  offer_type       146615 non-null  object        \n",
      " 23  bogo             146615 non-null  int64         \n",
      " 24  discount         146615 non-null  int64         \n",
      " 25  informational    146615 non-null  int64         \n",
      " 26  email            146615 non-null  int64         \n",
      " 27  mobile           146615 non-null  int64         \n",
      " 28  social           146615 non-null  int64         \n",
      " 29  web              146615 non-null  int64         \n",
      "dtypes: datetime64[ns](1), float64(2), int64(21), object(6)\n",
      "memory usage: 34.7+ MB\n"
     ]
    }
   ],
   "source": [
    "#Convert columns to int64\n",
    "starbucks_master = starbucks_master.astype({'offer_completed': 'int64',\n",
    "                                            'offer_received': 'int64',\n",
    "                                            'offer_viewed': 'int64',\n",
    "                                            'bogo': 'int64',\n",
    "                                            'discount': 'int64',\n",
    "                                            'informational': 'int64',\n",
    "                                            'email': 'int64',\n",
    "                                            'mobile': 'int64',\n",
    "                                            'social': 'int64',\n",
    "                                            'web': 'int64',\n",
    "                                            '18-24': 'int64',\n",
    "                                            '25-44': 'int64',\n",
    "                                            '45-64': 'int64',\n",
    "                                            '65-84': 'int64',\n",
    "                                            '85+': 'int64',\n",
    "                                           })\n",
    "starbucks_master.info()"
   ]
  },
  {
   "cell_type": "markdown",
   "metadata": {},
   "source": [
    "### Remove duplicates\n",
    " - Check how many duplicates are in this dataset.\n",
    " - Drop the duplicates (if applicable).\n",
    " - Confirm duplicates were removed (if applicable)."
   ]
  },
  {
   "cell_type": "code",
   "execution_count": 55,
   "metadata": {},
   "outputs": [
    {
     "data": {
      "text/plain": [
       "368"
      ]
     },
     "execution_count": 55,
     "metadata": {},
     "output_type": "execute_result"
    }
   ],
   "source": [
    "#check number of duplicates\n",
    "sum(starbucks_master.duplicated(starbucks_master.columns))"
   ]
  },
  {
   "cell_type": "code",
   "execution_count": 56,
   "metadata": {},
   "outputs": [],
   "source": [
    "#drop duplicates\n",
    "starbucks_master = starbucks_master.drop_duplicates()"
   ]
  },
  {
   "cell_type": "code",
   "execution_count": 57,
   "metadata": {},
   "outputs": [
    {
     "data": {
      "text/plain": [
       "0"
      ]
     },
     "execution_count": 57,
     "metadata": {},
     "output_type": "execute_result"
    }
   ],
   "source": [
    "#check number of duplicates\n",
    "sum(starbucks_master.duplicated(starbucks_master.columns))"
   ]
  },
  {
   "cell_type": "code",
   "execution_count": 58,
   "metadata": {},
   "outputs": [
    {
     "data": {
      "text/html": [
       "<div>\n",
       "<style scoped>\n",
       "    .dataframe tbody tr th:only-of-type {\n",
       "        vertical-align: middle;\n",
       "    }\n",
       "\n",
       "    .dataframe tbody tr th {\n",
       "        vertical-align: top;\n",
       "    }\n",
       "\n",
       "    .dataframe thead th {\n",
       "        text-align: right;\n",
       "    }\n",
       "</style>\n",
       "<table border=\"1\" class=\"dataframe\">\n",
       "  <thead>\n",
       "    <tr style=\"text-align: right;\">\n",
       "      <th></th>\n",
       "      <th>id_person</th>\n",
       "      <th>id_offer</th>\n",
       "      <th>event</th>\n",
       "      <th>time</th>\n",
       "      <th>days_time</th>\n",
       "      <th>offer_completed</th>\n",
       "      <th>offer_received</th>\n",
       "      <th>offer_viewed</th>\n",
       "      <th>gender</th>\n",
       "      <th>age</th>\n",
       "      <th>income</th>\n",
       "      <th>dt_membership</th>\n",
       "      <th>yr_membership</th>\n",
       "      <th>gender_binary</th>\n",
       "      <th>age_range</th>\n",
       "      <th>18-24</th>\n",
       "      <th>25-44</th>\n",
       "      <th>45-64</th>\n",
       "      <th>65-84</th>\n",
       "      <th>85+</th>\n",
       "      <th>difficulty</th>\n",
       "      <th>days_duration</th>\n",
       "      <th>offer_type</th>\n",
       "      <th>bogo</th>\n",
       "      <th>discount</th>\n",
       "      <th>informational</th>\n",
       "      <th>email</th>\n",
       "      <th>mobile</th>\n",
       "      <th>social</th>\n",
       "      <th>web</th>\n",
       "    </tr>\n",
       "  </thead>\n",
       "  <tbody>\n",
       "    <tr>\n",
       "      <th>0</th>\n",
       "      <td>78afa995795e4d85b5d9ceeca43f5fef</td>\n",
       "      <td>9b98b8c7a33c4b65b9aebfe6a799e6d9</td>\n",
       "      <td>offer_received</td>\n",
       "      <td>0</td>\n",
       "      <td>0</td>\n",
       "      <td>0</td>\n",
       "      <td>1</td>\n",
       "      <td>0</td>\n",
       "      <td>F</td>\n",
       "      <td>75.0</td>\n",
       "      <td>100000.0</td>\n",
       "      <td>2017-05-09</td>\n",
       "      <td>2017</td>\n",
       "      <td>0</td>\n",
       "      <td>65-84</td>\n",
       "      <td>0</td>\n",
       "      <td>0</td>\n",
       "      <td>0</td>\n",
       "      <td>1</td>\n",
       "      <td>0</td>\n",
       "      <td>5</td>\n",
       "      <td>7</td>\n",
       "      <td>bogo</td>\n",
       "      <td>1</td>\n",
       "      <td>0</td>\n",
       "      <td>0</td>\n",
       "      <td>1</td>\n",
       "      <td>1</td>\n",
       "      <td>0</td>\n",
       "      <td>1</td>\n",
       "    </tr>\n",
       "    <tr>\n",
       "      <th>1</th>\n",
       "      <td>e2127556f4f64592b11af22de27a7932</td>\n",
       "      <td>2906b810c7d4411798c6938adc9daaa5</td>\n",
       "      <td>offer_received</td>\n",
       "      <td>0</td>\n",
       "      <td>0</td>\n",
       "      <td>0</td>\n",
       "      <td>1</td>\n",
       "      <td>0</td>\n",
       "      <td>M</td>\n",
       "      <td>68.0</td>\n",
       "      <td>70000.0</td>\n",
       "      <td>2018-04-26</td>\n",
       "      <td>2018</td>\n",
       "      <td>1</td>\n",
       "      <td>65-84</td>\n",
       "      <td>0</td>\n",
       "      <td>0</td>\n",
       "      <td>0</td>\n",
       "      <td>1</td>\n",
       "      <td>0</td>\n",
       "      <td>10</td>\n",
       "      <td>7</td>\n",
       "      <td>discount</td>\n",
       "      <td>0</td>\n",
       "      <td>1</td>\n",
       "      <td>0</td>\n",
       "      <td>1</td>\n",
       "      <td>1</td>\n",
       "      <td>0</td>\n",
       "      <td>1</td>\n",
       "    </tr>\n",
       "    <tr>\n",
       "      <th>2</th>\n",
       "      <td>389bc3fa690240e798340f5a15918d5c</td>\n",
       "      <td>f19421c1d4aa40978ebb69ca19b0e20d</td>\n",
       "      <td>offer_received</td>\n",
       "      <td>0</td>\n",
       "      <td>0</td>\n",
       "      <td>0</td>\n",
       "      <td>1</td>\n",
       "      <td>0</td>\n",
       "      <td>M</td>\n",
       "      <td>65.0</td>\n",
       "      <td>53000.0</td>\n",
       "      <td>2018-02-09</td>\n",
       "      <td>2018</td>\n",
       "      <td>1</td>\n",
       "      <td>65-84</td>\n",
       "      <td>0</td>\n",
       "      <td>0</td>\n",
       "      <td>0</td>\n",
       "      <td>1</td>\n",
       "      <td>0</td>\n",
       "      <td>5</td>\n",
       "      <td>5</td>\n",
       "      <td>bogo</td>\n",
       "      <td>1</td>\n",
       "      <td>0</td>\n",
       "      <td>0</td>\n",
       "      <td>1</td>\n",
       "      <td>1</td>\n",
       "      <td>1</td>\n",
       "      <td>1</td>\n",
       "    </tr>\n",
       "    <tr>\n",
       "      <th>3</th>\n",
       "      <td>2eeac8d8feae4a8cad5a6af0499a211d</td>\n",
       "      <td>3f207df678b143eea3cee63160fa8bed</td>\n",
       "      <td>offer_received</td>\n",
       "      <td>0</td>\n",
       "      <td>0</td>\n",
       "      <td>0</td>\n",
       "      <td>1</td>\n",
       "      <td>0</td>\n",
       "      <td>M</td>\n",
       "      <td>58.0</td>\n",
       "      <td>51000.0</td>\n",
       "      <td>2017-11-11</td>\n",
       "      <td>2017</td>\n",
       "      <td>1</td>\n",
       "      <td>45-64</td>\n",
       "      <td>0</td>\n",
       "      <td>0</td>\n",
       "      <td>1</td>\n",
       "      <td>0</td>\n",
       "      <td>0</td>\n",
       "      <td>0</td>\n",
       "      <td>4</td>\n",
       "      <td>informational</td>\n",
       "      <td>0</td>\n",
       "      <td>0</td>\n",
       "      <td>1</td>\n",
       "      <td>1</td>\n",
       "      <td>1</td>\n",
       "      <td>0</td>\n",
       "      <td>1</td>\n",
       "    </tr>\n",
       "    <tr>\n",
       "      <th>4</th>\n",
       "      <td>aa4862eba776480b8bb9c68455b8c2e1</td>\n",
       "      <td>0b1e1539f2cc45b7b9fa7c272da2e1d7</td>\n",
       "      <td>offer_received</td>\n",
       "      <td>0</td>\n",
       "      <td>0</td>\n",
       "      <td>0</td>\n",
       "      <td>1</td>\n",
       "      <td>0</td>\n",
       "      <td>F</td>\n",
       "      <td>61.0</td>\n",
       "      <td>57000.0</td>\n",
       "      <td>2017-09-11</td>\n",
       "      <td>2017</td>\n",
       "      <td>0</td>\n",
       "      <td>45-64</td>\n",
       "      <td>0</td>\n",
       "      <td>0</td>\n",
       "      <td>1</td>\n",
       "      <td>0</td>\n",
       "      <td>0</td>\n",
       "      <td>20</td>\n",
       "      <td>10</td>\n",
       "      <td>discount</td>\n",
       "      <td>0</td>\n",
       "      <td>1</td>\n",
       "      <td>0</td>\n",
       "      <td>1</td>\n",
       "      <td>0</td>\n",
       "      <td>0</td>\n",
       "      <td>1</td>\n",
       "    </tr>\n",
       "  </tbody>\n",
       "</table>\n",
       "</div>"
      ],
      "text/plain": [
       "                          id_person                          id_offer           event  time  days_time  offer_completed  offer_received  offer_viewed gender   age    income dt_membership  yr_membership  gender_binary age_range  18-24  25-44  45-64  65-84  85+  difficulty  days_duration     offer_type  bogo  discount  informational  email  mobile  social  web\n",
       "0  78afa995795e4d85b5d9ceeca43f5fef  9b98b8c7a33c4b65b9aebfe6a799e6d9  offer_received     0          0                0               1             0      F  75.0  100000.0    2017-05-09           2017              0     65-84      0      0      0      1    0           5              7           bogo     1         0              0      1       1       0    1\n",
       "1  e2127556f4f64592b11af22de27a7932  2906b810c7d4411798c6938adc9daaa5  offer_received     0          0                0               1             0      M  68.0   70000.0    2018-04-26           2018              1     65-84      0      0      0      1    0          10              7       discount     0         1              0      1       1       0    1\n",
       "2  389bc3fa690240e798340f5a15918d5c  f19421c1d4aa40978ebb69ca19b0e20d  offer_received     0          0                0               1             0      M  65.0   53000.0    2018-02-09           2018              1     65-84      0      0      0      1    0           5              5           bogo     1         0              0      1       1       1    1\n",
       "3  2eeac8d8feae4a8cad5a6af0499a211d  3f207df678b143eea3cee63160fa8bed  offer_received     0          0                0               1             0      M  58.0   51000.0    2017-11-11           2017              1     45-64      0      0      1      0    0           0              4  informational     0         0              1      1       1       0    1\n",
       "4  aa4862eba776480b8bb9c68455b8c2e1  0b1e1539f2cc45b7b9fa7c272da2e1d7  offer_received     0          0                0               1             0      F  61.0   57000.0    2017-09-11           2017              0     45-64      0      0      1      0    0          20             10       discount     0         1              0      1       0       0    1"
      ]
     },
     "execution_count": 58,
     "metadata": {},
     "output_type": "execute_result"
    }
   ],
   "source": [
    "starbucks_master.head()"
   ]
  },
  {
   "cell_type": "code",
   "execution_count": 59,
   "metadata": {},
   "outputs": [
    {
     "data": {
      "text/plain": [
       "offer_type\n",
       "bogo             12900\n",
       "discount         12857\n",
       "informational     9070\n",
       "Name: id_person, dtype: int64"
      ]
     },
     "execution_count": 59,
     "metadata": {},
     "output_type": "execute_result"
    }
   ],
   "source": [
    "purchase_offer_type = starbucks_master.groupby('offer_type').id_person.nunique()\n",
    "purchase_offer_type"
   ]
  },
  {
   "cell_type": "markdown",
   "metadata": {},
   "source": [
    "#### Visualize starbucks_master"
   ]
  },
  {
   "cell_type": "code",
   "execution_count": 60,
   "metadata": {},
   "outputs": [
    {
     "data": {
      "image/png": "[encoded data removed]",
      "text/plain": [
       "<Figure size 1008x432 with 1 Axes>"
      ]
     },
     "metadata": {},
     "output_type": "display_data"
    }
   ],
   "source": [
    "df_copy = starbucks_master.copy()\n",
    "\n",
    "plt.figure(figsize=(14, 6))\n",
    "g = sns.countplot(x=\"age_range\", hue=\"offer_type\", data=df_copy)\n",
    "plt.title('Total Amount of Offer Types by Age Range')\n",
    "plt.ylabel('Total')\n",
    "plt.xlabel('Age Range')\n",
    "xlabels = ['18-24','25-44','45-64','65-84', '85+']\n",
    "g.set_xticklabels(xlabels)\n",
    "plt.xticks(rotation = 0)\n",
    "plt.legend(title='Offer Type')\n",
    "plt.show();"
   ]
  },
  {
   "cell_type": "markdown",
   "metadata": {},
   "source": [
    "The age range that recieved the most offer type were age 25-44, followed by:\n",
    " - 18-24\n",
    " - 65-84\n",
    " - 85+\n",
    " - 45-64"
   ]
  },
  {
   "cell_type": "code",
   "execution_count": 61,
   "metadata": {},
   "outputs": [],
   "source": [
    "starbucks_master.to_csv('starbucks_master.csv')\n",
    "#portfolio.to_csv('portfolio.csv')\n",
    "#profile.to_csv('profile.csv')\n",
    "#transcript.to_csv('transcript.csv')"
   ]
  },
  {
   "cell_type": "markdown",
   "metadata": {},
   "source": [
    "## Machine Learning Pipeline Preparation"
   ]
  },
  {
   "cell_type": "markdown",
   "metadata": {},
   "source": [
    "### 1. Load data and define feature and target variables X and y"
   ]
  },
  {
   "cell_type": "code",
   "execution_count": 62,
   "metadata": {},
   "outputs": [
    {
     "name": "stdout",
     "output_type": "stream",
     "text": [
      "<class 'pandas.core.frame.DataFrame'>\n",
      "Int64Index: 146247 entries, 0 to 146614\n",
      "Data columns (total 30 columns):\n",
      " #   Column           Non-Null Count   Dtype         \n",
      "---  ------           --------------   -----         \n",
      " 0   id_person        146247 non-null  object        \n",
      " 1   id_offer         146247 non-null  object        \n",
      " 2   event            146247 non-null  object        \n",
      " 3   time             146247 non-null  int64         \n",
      " 4   days_time        146247 non-null  int64         \n",
      " 5   offer_completed  146247 non-null  int64         \n",
      " 6   offer_received   146247 non-null  int64         \n",
      " 7   offer_viewed     146247 non-null  int64         \n",
      " 8   gender           146247 non-null  object        \n",
      " 9   age              146247 non-null  float64       \n",
      " 10  income           146247 non-null  float64       \n",
      " 11  dt_membership    146247 non-null  datetime64[ns]\n",
      " 12  yr_membership    146247 non-null  int64         \n",
      " 13  gender_binary    146247 non-null  int64         \n",
      " 14  age_range        146247 non-null  object        \n",
      " 15  18-24            146247 non-null  int64         \n",
      " 16  25-44            146247 non-null  int64         \n",
      " 17  45-64            146247 non-null  int64         \n",
      " 18  65-84            146247 non-null  int64         \n",
      " 19  85+              146247 non-null  int64         \n",
      " 20  difficulty       146247 non-null  int64         \n",
      " 21  days_duration    146247 non-null  int64         \n",
      " 22  offer_type       146247 non-null  object        \n",
      " 23  bogo             146247 non-null  int64         \n",
      " 24  discount         146247 non-null  int64         \n",
      " 25  informational    146247 non-null  int64         \n",
      " 26  email            146247 non-null  int64         \n",
      " 27  mobile           146247 non-null  int64         \n",
      " 28  social           146247 non-null  int64         \n",
      " 29  web              146247 non-null  int64         \n",
      "dtypes: datetime64[ns](1), float64(2), int64(21), object(6)\n",
      "memory usage: 34.6+ MB\n"
     ]
    }
   ],
   "source": [
    "starbucks_master.info()"
   ]
  },
  {
   "cell_type": "code",
   "execution_count": 63,
   "metadata": {},
   "outputs": [
    {
     "name": "stdout",
     "output_type": "stream",
     "text": [
      "<class 'pandas.core.frame.DataFrame'>\n",
      "Int64Index: 146247 entries, 0 to 146614\n",
      "Data columns (total 30 columns):\n",
      " #   Column           Non-Null Count   Dtype         \n",
      "---  ------           --------------   -----         \n",
      " 0   id_person        146247 non-null  object        \n",
      " 1   id_offer         146247 non-null  object        \n",
      " 2   event            146247 non-null  object        \n",
      " 3   time             146247 non-null  int64         \n",
      " 4   days_time        146247 non-null  int64         \n",
      " 5   offer_completed  146247 non-null  int64         \n",
      " 6   offer_received   146247 non-null  int64         \n",
      " 7   offer_viewed     146247 non-null  int64         \n",
      " 8   gender           146247 non-null  object        \n",
      " 9   age              146247 non-null  float64       \n",
      " 10  income           146247 non-null  float64       \n",
      " 11  dt_membership    146247 non-null  datetime64[ns]\n",
      " 12  yr_membership    146247 non-null  int64         \n",
      " 13  gender_binary    146247 non-null  int64         \n",
      " 14  age_range        146247 non-null  object        \n",
      " 15  18-24            146247 non-null  int64         \n",
      " 16  25-44            146247 non-null  int64         \n",
      " 17  45-64            146247 non-null  int64         \n",
      " 18  65-84            146247 non-null  int64         \n",
      " 19  85+              146247 non-null  int64         \n",
      " 20  difficulty       146247 non-null  int64         \n",
      " 21  days_duration    146247 non-null  int64         \n",
      " 22  offer_type       146247 non-null  object        \n",
      " 23  bogo             146247 non-null  int64         \n",
      " 24  discount         146247 non-null  int64         \n",
      " 25  informational    146247 non-null  int64         \n",
      " 26  email            146247 non-null  int64         \n",
      " 27  mobile           146247 non-null  int64         \n",
      " 28  social           146247 non-null  int64         \n",
      " 29  web              146247 non-null  int64         \n",
      "dtypes: datetime64[ns](1), float64(2), int64(21), object(6)\n",
      "memory usage: 34.6+ MB\n"
     ]
    }
   ],
   "source": [
    "#create new df to use for machine learning\n",
    "starbucks_ml = starbucks_master.copy()\n",
    "starbucks_ml.info()"
   ]
  },
  {
   "cell_type": "code",
   "execution_count": 64,
   "metadata": {},
   "outputs": [
    {
     "name": "stdout",
     "output_type": "stream",
     "text": [
      "<class 'pandas.core.frame.DataFrame'>\n",
      "Int64Index: 146247 entries, 0 to 146614\n",
      "Data columns (total 18 columns):\n",
      " #   Column         Non-Null Count   Dtype  \n",
      "---  ------         --------------   -----  \n",
      " 0   id_person      146247 non-null  object \n",
      " 1   gender         146247 non-null  object \n",
      " 2   age            146247 non-null  float64\n",
      " 3   age_range      146247 non-null  object \n",
      " 4   event          146247 non-null  object \n",
      " 5   offer_type     146247 non-null  object \n",
      " 6   18-24          146247 non-null  int64  \n",
      " 7   25-44          146247 non-null  int64  \n",
      " 8   45-64          146247 non-null  int64  \n",
      " 9   65-84          146247 non-null  int64  \n",
      " 10  85+            146247 non-null  int64  \n",
      " 11  bogo           146247 non-null  int64  \n",
      " 12  discount       146247 non-null  int64  \n",
      " 13  informational  146247 non-null  int64  \n",
      " 14  email          146247 non-null  int64  \n",
      " 15  mobile         146247 non-null  int64  \n",
      " 16  social         146247 non-null  int64  \n",
      " 17  web            146247 non-null  int64  \n",
      "dtypes: float64(1), int64(12), object(5)\n",
      "memory usage: 21.2+ MB\n"
     ]
    }
   ],
   "source": [
    "starbucks_ml = starbucks_ml[['id_person',\n",
    "                                  'gender',\n",
    "                                  'age',\n",
    "                                  'age_range',\n",
    "                                  'event',\n",
    "                                  'offer_type',\n",
    "                                  '18-24',\n",
    "                                  '25-44',\n",
    "                                  '45-64',\n",
    "                                  '65-84',\n",
    "                                  '85+',\n",
    "                                  'bogo',\n",
    "                                  'discount',\n",
    "                                  'informational',\n",
    "                                  'email',\n",
    "                                  'mobile',\n",
    "                                  'social',\n",
    "                                  'web']]\n",
    "starbucks_ml.info()    "
   ]
  },
  {
   "cell_type": "code",
   "execution_count": 65,
   "metadata": {},
   "outputs": [
    {
     "data": {
      "text/html": [
       "<div>\n",
       "<style scoped>\n",
       "    .dataframe tbody tr th:only-of-type {\n",
       "        vertical-align: middle;\n",
       "    }\n",
       "\n",
       "    .dataframe tbody tr th {\n",
       "        vertical-align: top;\n",
       "    }\n",
       "\n",
       "    .dataframe thead th {\n",
       "        text-align: right;\n",
       "    }\n",
       "</style>\n",
       "<table border=\"1\" class=\"dataframe\">\n",
       "  <thead>\n",
       "    <tr style=\"text-align: right;\">\n",
       "      <th></th>\n",
       "      <th>18-24</th>\n",
       "      <th>25-44</th>\n",
       "      <th>45-64</th>\n",
       "      <th>65-84</th>\n",
       "      <th>85+</th>\n",
       "      <th>bogo</th>\n",
       "      <th>discount</th>\n",
       "      <th>informational</th>\n",
       "      <th>email</th>\n",
       "      <th>mobile</th>\n",
       "      <th>social</th>\n",
       "      <th>web</th>\n",
       "    </tr>\n",
       "  </thead>\n",
       "  <tbody>\n",
       "    <tr>\n",
       "      <th>0</th>\n",
       "      <td>0</td>\n",
       "      <td>0</td>\n",
       "      <td>0</td>\n",
       "      <td>1</td>\n",
       "      <td>0</td>\n",
       "      <td>1</td>\n",
       "      <td>0</td>\n",
       "      <td>0</td>\n",
       "      <td>1</td>\n",
       "      <td>1</td>\n",
       "      <td>0</td>\n",
       "      <td>1</td>\n",
       "    </tr>\n",
       "    <tr>\n",
       "      <th>1</th>\n",
       "      <td>0</td>\n",
       "      <td>0</td>\n",
       "      <td>0</td>\n",
       "      <td>1</td>\n",
       "      <td>0</td>\n",
       "      <td>0</td>\n",
       "      <td>1</td>\n",
       "      <td>0</td>\n",
       "      <td>1</td>\n",
       "      <td>1</td>\n",
       "      <td>0</td>\n",
       "      <td>1</td>\n",
       "    </tr>\n",
       "    <tr>\n",
       "      <th>2</th>\n",
       "      <td>0</td>\n",
       "      <td>0</td>\n",
       "      <td>0</td>\n",
       "      <td>1</td>\n",
       "      <td>0</td>\n",
       "      <td>1</td>\n",
       "      <td>0</td>\n",
       "      <td>0</td>\n",
       "      <td>1</td>\n",
       "      <td>1</td>\n",
       "      <td>1</td>\n",
       "      <td>1</td>\n",
       "    </tr>\n",
       "    <tr>\n",
       "      <th>3</th>\n",
       "      <td>0</td>\n",
       "      <td>0</td>\n",
       "      <td>1</td>\n",
       "      <td>0</td>\n",
       "      <td>0</td>\n",
       "      <td>0</td>\n",
       "      <td>0</td>\n",
       "      <td>1</td>\n",
       "      <td>1</td>\n",
       "      <td>1</td>\n",
       "      <td>0</td>\n",
       "      <td>1</td>\n",
       "    </tr>\n",
       "    <tr>\n",
       "      <th>4</th>\n",
       "      <td>0</td>\n",
       "      <td>0</td>\n",
       "      <td>1</td>\n",
       "      <td>0</td>\n",
       "      <td>0</td>\n",
       "      <td>0</td>\n",
       "      <td>1</td>\n",
       "      <td>0</td>\n",
       "      <td>1</td>\n",
       "      <td>0</td>\n",
       "      <td>0</td>\n",
       "      <td>1</td>\n",
       "    </tr>\n",
       "  </tbody>\n",
       "</table>\n",
       "</div>"
      ],
      "text/plain": [
       "   18-24  25-44  45-64  65-84  85+  bogo  discount  informational  email  mobile  social  web\n",
       "0      0      0      0      1    0     1         0              0      1       1       0    1\n",
       "1      0      0      0      1    0     0         1              0      1       1       0    1\n",
       "2      0      0      0      1    0     1         0              0      1       1       1    1\n",
       "3      0      0      1      0    0     0         0              1      1       1       0    1\n",
       "4      0      0      1      0    0     0         1              0      1       0       0    1"
      ]
     },
     "metadata": {},
     "output_type": "display_data"
    }
   ],
   "source": [
    "# create y variable\n",
    "y = starbucks_ml[starbucks_ml.columns[6:]]\n",
    "display (y.head())"
   ]
  },
  {
   "cell_type": "code",
   "execution_count": 66,
   "metadata": {},
   "outputs": [
    {
     "name": "stdout",
     "output_type": "stream",
     "text": [
      "<class 'pandas.core.frame.DataFrame'>\n",
      "Int64Index: 146247 entries, 0 to 146614\n",
      "Data columns (total 12 columns):\n",
      " #   Column         Non-Null Count   Dtype\n",
      "---  ------         --------------   -----\n",
      " 0   18-24          146247 non-null  int64\n",
      " 1   25-44          146247 non-null  int64\n",
      " 2   45-64          146247 non-null  int64\n",
      " 3   65-84          146247 non-null  int64\n",
      " 4   85+            146247 non-null  int64\n",
      " 5   bogo           146247 non-null  int64\n",
      " 6   discount       146247 non-null  int64\n",
      " 7   informational  146247 non-null  int64\n",
      " 8   email          146247 non-null  int64\n",
      " 9   mobile         146247 non-null  int64\n",
      " 10  social         146247 non-null  int64\n",
      " 11  web            146247 non-null  int64\n",
      "dtypes: int64(12)\n",
      "memory usage: 14.5 MB\n"
     ]
    }
   ],
   "source": [
    "# look at the columns, non-null counts, and data types\n",
    "y.info()"
   ]
  },
  {
   "cell_type": "code",
   "execution_count": 67,
   "metadata": {},
   "outputs": [],
   "source": [
    "# create X variable\n",
    "X = starbucks_ml['event']"
   ]
  },
  {
   "cell_type": "code",
   "execution_count": 68,
   "metadata": {},
   "outputs": [
    {
     "data": {
      "text/plain": [
       "offer_received     65585\n",
       "offer_viewed       49087\n",
       "offer_completed    31575\n",
       "Name: event, dtype: int64"
      ]
     },
     "execution_count": 68,
     "metadata": {},
     "output_type": "execute_result"
    }
   ],
   "source": [
    "# look at the counts by offer type\n",
    "X.value_counts()"
   ]
  },
  {
   "cell_type": "code",
   "execution_count": 69,
   "metadata": {},
   "outputs": [
    {
     "name": "stdout",
     "output_type": "stream",
     "text": [
      "(146247,)\n",
      "(146247, 12)\n"
     ]
    }
   ],
   "source": [
    "print(X.shape)\n",
    "print(y.shape)"
   ]
  },
  {
   "cell_type": "code",
   "execution_count": 70,
   "metadata": {},
   "outputs": [
    {
     "data": {
      "text/plain": [
       "0"
      ]
     },
     "execution_count": 70,
     "metadata": {},
     "output_type": "execute_result"
    }
   ],
   "source": [
    "#check for missing values\n",
    "X.isnull().sum()"
   ]
  },
  {
   "cell_type": "code",
   "execution_count": 71,
   "metadata": {},
   "outputs": [
    {
     "data": {
      "text/plain": [
       "18-24            0\n",
       "25-44            0\n",
       "45-64            0\n",
       "65-84            0\n",
       "85+              0\n",
       "bogo             0\n",
       "discount         0\n",
       "informational    0\n",
       "email            0\n",
       "mobile           0\n",
       "social           0\n",
       "web              0\n",
       "dtype: int64"
      ]
     },
     "execution_count": 71,
     "metadata": {},
     "output_type": "execute_result"
    }
   ],
   "source": [
    "#check for missing values\n",
    "y.isnull().sum()"
   ]
  },
  {
   "cell_type": "markdown",
   "metadata": {},
   "source": [
    "### 2a. Write a tokenization function to process your text data"
   ]
  },
  {
   "cell_type": "code",
   "execution_count": 72,
   "metadata": {},
   "outputs": [],
   "source": [
    "def tokenize(text):\n",
    "    \"\"\"Tokenization function. Receives as input raw text which afterwards normalized, \n",
    "    stop words removed, stemmed and lemmatized.\n",
    "    Returns tokenized text\"\"\"\n",
    "    \n",
    "    # Normalize text\n",
    "    text = re.sub(r\"[^a-zA-Z0-9]\", \" \", text.lower())\n",
    "    \n",
    "    stop_words = stopwords.words(\"english\")\n",
    "    \n",
    "    #tokenize\n",
    "    words = word_tokenize(text)\n",
    "    \n",
    "    #stemming\n",
    "    stemmed = [PorterStemmer().stem(w) for w in words]\n",
    "    \n",
    "    #lemmatizing\n",
    "    words_lemmed = [WordNetLemmatizer().lemmatize(w) for w in stemmed if w not in stop_words]\n",
    "   \n",
    "    return words_lemmed"
   ]
  },
  {
   "cell_type": "markdown",
   "metadata": {},
   "source": [
    "### 2b. Additional functions"
   ]
  },
  {
   "cell_type": "code",
   "execution_count": 73,
   "metadata": {},
   "outputs": [],
   "source": [
    "def f1_pre_acc_evaluation (y_true, y_pred): \n",
    "    \"\"\"A function that measures mean of f1, precision, recall for each class within multi-class prediction \n",
    "       Returns a dataframe with columns: \n",
    "       f1-score (average for all possible values of specific class)\n",
    "       precision (average for all possible values of specific class)\n",
    "       recall (average for all possible values of specific class)\n",
    "       kindly keep in mind that some classes might be imbalanced and average values may mislead. \n",
    "    \"\"\"\n",
    "    #instantiating a dataframe\n",
    "    report = pd.DataFrame ()\n",
    "    \n",
    "    for col in y_true.columns:\n",
    "        #returning dictionary from classification report\n",
    "        class_dict = classification_report (output_dict = True, y_true = y_true.loc [:,col], y_pred = y_pred.loc [:,col])\n",
    "    \n",
    "        #converting from dictionary to dataframe\n",
    "        eval_df = pd.DataFrame (pd.DataFrame.from_dict (class_dict))\n",
    "        \n",
    "        #calculating mean values\n",
    "        av_eval_df = pd.DataFrame (eval_df.transpose ().mean ())\n",
    "        \n",
    "        #transposing columns to rows and vice versa \n",
    "        av_eval_df = av_eval_df.transpose ()\n",
    "    \n",
    "        #appending result to report df\n",
    "        report = report.append (av_eval_df, ignore_index = True)    \n",
    "    \n",
    "    #renaming indexes for convinience\n",
    "    report.index = y_true.columns\n",
    "    \n",
    "    return report\n",
    "\n",
    "def f1_scorer_eval (y_true, y_pred): \n",
    "    \"\"\"A function that measures mean of F1 for all classes \n",
    "       Returns an average value of F1 for sake of evaluation whether model predicts better or worse in GridSearchCV \n",
    "    \"\"\"\n",
    "    #converting y_pred from np.array to pd.dataframe\n",
    "    #keep in mind that y_pred should a pd.dataframe rather than np.array\n",
    "    y_pred = pd.DataFrame (y_pred, columns = y_true.columns)\n",
    "    \n",
    "    \n",
    "    #instantiating a dataframe\n",
    "    report = pd.DataFrame ()\n",
    "    \n",
    "    for col in y_true.columns:\n",
    "        #returning dictionary from classification report\n",
    "        class_dict = classification_report (output_dict = True, y_true = y_true.loc [:,col], y_pred = y_pred.loc [:,col])\n",
    "    \n",
    "        #converting from dictionary to dataframe\n",
    "        eval_df = pd.DataFrame (pd.DataFrame.from_dict (class_dict))\n",
    "        \n",
    "        #calculating mean values\n",
    "        av_eval_df = pd.DataFrame (eval_df.transpose ().mean ())\n",
    "        \n",
    "        #transposing columns to rows and vice versa \n",
    "        av_eval_df = av_eval_df.transpose ()\n",
    "    \n",
    "        #appending result to report df\n",
    "        report = report.append (av_eval_df, ignore_index = True)    \n",
    "    \n",
    "    #returining mean value for all classes. since it's used for GridSearch we may use mean\n",
    "    #as the overall value of F1 should grow. \n",
    "    return report ['f1-score'].mean ()"
   ]
  },
  {
   "cell_type": "markdown",
   "metadata": {},
   "source": [
    "### 3. Build a machine learning pipeline\n",
    "This machine pipeline takes in the `event` column as input and output results on the categories in the dataset. "
   ]
  },
  {
   "cell_type": "code",
   "execution_count": 74,
   "metadata": {},
   "outputs": [],
   "source": [
    "pipeline = Pipeline([\n",
    "    ('vect',CountVectorizer(tokenizer=tokenize)),\n",
    "    ('tfidf', TfidfTransformer()),\n",
    "    ('clf',MultiOutputClassifier(RandomForestClassifier())),\n",
    "    ])"
   ]
  },
  {
   "cell_type": "code",
   "execution_count": 75,
   "metadata": {},
   "outputs": [
    {
     "data": {
      "text/plain": [
       "dict_keys(['memory', 'steps', 'verbose', 'vect', 'tfidf', 'clf', 'vect__analyzer', 'vect__binary', 'vect__decode_error', 'vect__dtype', 'vect__encoding', 'vect__input', 'vect__lowercase', 'vect__max_df', 'vect__max_features', 'vect__min_df', 'vect__ngram_range', 'vect__preprocessor', 'vect__stop_words', 'vect__strip_accents', 'vect__token_pattern', 'vect__tokenizer', 'vect__vocabulary', 'tfidf__norm', 'tfidf__smooth_idf', 'tfidf__sublinear_tf', 'tfidf__use_idf', 'clf__estimator__bootstrap', 'clf__estimator__ccp_alpha', 'clf__estimator__class_weight', 'clf__estimator__criterion', 'clf__estimator__max_depth', 'clf__estimator__max_features', 'clf__estimator__max_leaf_nodes', 'clf__estimator__max_samples', 'clf__estimator__min_impurity_decrease', 'clf__estimator__min_impurity_split', 'clf__estimator__min_samples_leaf', 'clf__estimator__min_samples_split', 'clf__estimator__min_weight_fraction_leaf', 'clf__estimator__n_estimators', 'clf__estimator__n_jobs', 'clf__estimator__oob_score', 'clf__estimator__random_state', 'clf__estimator__verbose', 'clf__estimator__warm_start', 'clf__estimator', 'clf__n_jobs'])"
      ]
     },
     "execution_count": 75,
     "metadata": {},
     "output_type": "execute_result"
    }
   ],
   "source": [
    "pipeline.get_params().keys()"
   ]
  },
  {
   "cell_type": "markdown",
   "metadata": {},
   "source": [
    "### 4. Train pipeline\n",
    " - Split data into train and test sets\n",
    " - Train pipeline"
   ]
  },
  {
   "cell_type": "code",
   "execution_count": 76,
   "metadata": {},
   "outputs": [
    {
     "data": {
      "text/plain": [
       "Pipeline(steps=[('vect',\n",
       "                 CountVectorizer(tokenizer=<function tokenize at 0x000001FA7E8BD820>)),\n",
       "                ('tfidf', TfidfTransformer()),\n",
       "                ('clf',\n",
       "                 MultiOutputClassifier(estimator=RandomForestClassifier()))])"
      ]
     },
     "execution_count": 76,
     "metadata": {},
     "output_type": "execute_result"
    }
   ],
   "source": [
    "# train pipeline\n",
    "X_train, X_test, y_train, y_test = train_test_split(X, y)\n",
    "# train classifier\n",
    "pipeline.fit(X_train, y_train)"
   ]
  },
  {
   "cell_type": "markdown",
   "metadata": {},
   "source": [
    "### 5. Test model\n",
    "Report the precision, recall, f1-score, and support for each output category of the dataset. \n",
    " - **Precision** is how precise/accurate your model is out of those predicted positive, how many of them are actual positive\n",
    " - **Recall** is how many of the Actual Positives our model capture through labeling it as Positive (True Positive)\n",
    " - **F1 Score** is a function of precision and recall. Seeks a balance between Precision and Recall and when there is an uneven class distribution (large number of acutal negatives)."
   ]
  },
  {
   "cell_type": "code",
   "execution_count": 77,
   "metadata": {},
   "outputs": [],
   "source": [
    "y_pred = pipeline.predict(X_test)\n",
    "#converting to dataframe\n",
    "y_pred = pd.DataFrame(y_pred, columns = y_test.columns)"
   ]
  },
  {
   "cell_type": "code",
   "execution_count": 78,
   "metadata": {},
   "outputs": [
    {
     "data": {
      "text/html": [
       "<div>\n",
       "<style scoped>\n",
       "    .dataframe tbody tr th:only-of-type {\n",
       "        vertical-align: middle;\n",
       "    }\n",
       "\n",
       "    .dataframe tbody tr th {\n",
       "        vertical-align: top;\n",
       "    }\n",
       "\n",
       "    .dataframe thead th {\n",
       "        text-align: right;\n",
       "    }\n",
       "</style>\n",
       "<table border=\"1\" class=\"dataframe\">\n",
       "  <thead>\n",
       "    <tr style=\"text-align: right;\">\n",
       "      <th></th>\n",
       "      <th>precision</th>\n",
       "      <th>recall</th>\n",
       "      <th>f1-score</th>\n",
       "      <th>support</th>\n",
       "    </tr>\n",
       "  </thead>\n",
       "  <tbody>\n",
       "    <tr>\n",
       "      <th>18-24</th>\n",
       "      <td>0.650791</td>\n",
       "      <td>0.677857</td>\n",
       "      <td>0.663938</td>\n",
       "      <td>21937.388928</td>\n",
       "    </tr>\n",
       "    <tr>\n",
       "      <th>25-44</th>\n",
       "      <td>0.517612</td>\n",
       "      <td>0.614917</td>\n",
       "      <td>0.560475</td>\n",
       "      <td>21937.357459</td>\n",
       "    </tr>\n",
       "    <tr>\n",
       "      <th>45-64</th>\n",
       "      <td>0.338890</td>\n",
       "      <td>0.521881</td>\n",
       "      <td>0.404179</td>\n",
       "      <td>21937.310940</td>\n",
       "    </tr>\n",
       "    <tr>\n",
       "      <th>65-84</th>\n",
       "      <td>0.489503</td>\n",
       "      <td>0.601001</td>\n",
       "      <td>0.537379</td>\n",
       "      <td>21937.350501</td>\n",
       "    </tr>\n",
       "    <tr>\n",
       "      <th>85+</th>\n",
       "      <td>0.665081</td>\n",
       "      <td>0.684344</td>\n",
       "      <td>0.674521</td>\n",
       "      <td>21937.392172</td>\n",
       "    </tr>\n",
       "    <tr>\n",
       "      <th>bogo</th>\n",
       "      <td>0.349973</td>\n",
       "      <td>0.527996</td>\n",
       "      <td>0.414605</td>\n",
       "      <td>21937.313998</td>\n",
       "    </tr>\n",
       "    <tr>\n",
       "      <th>discount</th>\n",
       "      <td>0.576759</td>\n",
       "      <td>0.567036</td>\n",
       "      <td>0.549106</td>\n",
       "      <td>21937.318921</td>\n",
       "    </tr>\n",
       "    <tr>\n",
       "      <th>informational</th>\n",
       "      <td>0.567509</td>\n",
       "      <td>0.639051</td>\n",
       "      <td>0.600330</td>\n",
       "      <td>21937.369526</td>\n",
       "    </tr>\n",
       "    <tr>\n",
       "      <th>email</th>\n",
       "      <td>1.000000</td>\n",
       "      <td>1.000000</td>\n",
       "      <td>1.000000</td>\n",
       "      <td>27421.750000</td>\n",
       "    </tr>\n",
       "    <tr>\n",
       "      <th>mobile</th>\n",
       "      <td>0.626622</td>\n",
       "      <td>0.666774</td>\n",
       "      <td>0.645828</td>\n",
       "      <td>21937.383387</td>\n",
       "    </tr>\n",
       "    <tr>\n",
       "      <th>social</th>\n",
       "      <td>0.415576</td>\n",
       "      <td>0.563191</td>\n",
       "      <td>0.474158</td>\n",
       "      <td>21937.331596</td>\n",
       "    </tr>\n",
       "    <tr>\n",
       "      <th>web</th>\n",
       "      <td>0.536869</td>\n",
       "      <td>0.624315</td>\n",
       "      <td>0.576023</td>\n",
       "      <td>21937.362157</td>\n",
       "    </tr>\n",
       "  </tbody>\n",
       "</table>\n",
       "</div>"
      ],
      "text/plain": [
       "               precision    recall  f1-score       support\n",
       "18-24           0.650791  0.677857  0.663938  21937.388928\n",
       "25-44           0.517612  0.614917  0.560475  21937.357459\n",
       "45-64           0.338890  0.521881  0.404179  21937.310940\n",
       "65-84           0.489503  0.601001  0.537379  21937.350501\n",
       "85+             0.665081  0.684344  0.674521  21937.392172\n",
       "bogo            0.349973  0.527996  0.414605  21937.313998\n",
       "discount        0.576759  0.567036  0.549106  21937.318921\n",
       "informational   0.567509  0.639051  0.600330  21937.369526\n",
       "email           1.000000  1.000000  1.000000  27421.750000\n",
       "mobile          0.626622  0.666774  0.645828  21937.383387\n",
       "social          0.415576  0.563191  0.474158  21937.331596\n",
       "web             0.536869  0.624315  0.576023  21937.362157"
      ]
     },
     "execution_count": 78,
     "metadata": {},
     "output_type": "execute_result"
    }
   ],
   "source": [
    "#Test using function f1_pre_acc_evaluation\n",
    "report = f1_pre_acc_evaluation(y_test, y_pred)\n",
    "report"
   ]
  },
  {
   "cell_type": "markdown",
   "metadata": {},
   "source": [
    "For the age range indicators, the highest F1 Score was over 85 (.67) followed by:\n",
    " - 18-24 (.66)\n",
    " - 25-44 (.56)\n",
    " - 65-84 (.53)\n",
    " - 45-64 (.41)\n",
    "<br><br>\n",
    "For the event indicators, the highest F1 Score was informational (.60) followed by:\n",
    " - discount (.55)\n",
    " - bogo (.41)\n",
    "<br><br>\n",
    "For the channels indicators, the highest F1 Score was email (1.00) followed by:\n",
    " - mobile (.64)\n",
    " - web (.57) \n",
    " - social (.48) "
   ]
  },
  {
   "cell_type": "markdown",
   "metadata": {},
   "source": [
    "### 6. Improved model\n",
    "Use grid search to find better parameters. "
   ]
  },
  {
   "cell_type": "code",
   "execution_count": 79,
   "metadata": {},
   "outputs": [
    {
     "data": {
      "text/plain": [
       "GridSearchCV(estimator=Pipeline(steps=[('vect',\n",
       "                                        CountVectorizer(tokenizer=<function tokenize at 0x000001FA7E8BD820>)),\n",
       "                                       ('tfidf', TfidfTransformer()),\n",
       "                                       ('clf',\n",
       "                                        MultiOutputClassifier(estimator=RandomForestClassifier()))]),\n",
       "             param_grid={'clf__estimator__min_samples_split': [2, 5],\n",
       "                         'clf__estimator__n_estimators': [10, 20],\n",
       "                         'vect__max_df': (0.75, 1.0)},\n",
       "             scoring=make_scorer(f1_scorer_eval), verbose=7)"
      ]
     },
     "execution_count": 79,
     "metadata": {},
     "output_type": "execute_result"
    }
   ],
   "source": [
    "# fbeta_score scoring object using make_scorer()\n",
    "scorer = make_scorer(f1_scorer_eval)\n",
    "\n",
    "parameters = {\n",
    "    'vect__max_df': (0.75, 1.0),\n",
    "    'clf__estimator__n_estimators': [10, 20],\n",
    "    'clf__estimator__min_samples_split': [2, 5]\n",
    "}\n",
    "cv_improved = GridSearchCV(pipeline, param_grid= parameters, scoring = scorer, verbose =7)\n",
    "cv_improved"
   ]
  },
  {
   "cell_type": "code",
   "execution_count": 80,
   "metadata": {},
   "outputs": [
    {
     "data": {
      "text/plain": [
       "{'cv': None,\n",
       " 'error_score': nan,\n",
       " 'estimator__memory': None,\n",
       " 'estimator__steps': [('vect',\n",
       "   CountVectorizer(tokenizer=<function tokenize at 0x000001FA7E8BD820>)),\n",
       "  ('tfidf', TfidfTransformer()),\n",
       "  ('clf', MultiOutputClassifier(estimator=RandomForestClassifier()))],\n",
       " 'estimator__verbose': False,\n",
       " 'estimator__vect': CountVectorizer(tokenizer=<function tokenize at 0x000001FA7E8BD820>),\n",
       " 'estimator__tfidf': TfidfTransformer(),\n",
       " 'estimator__clf': MultiOutputClassifier(estimator=RandomForestClassifier()),\n",
       " 'estimator__vect__analyzer': 'word',\n",
       " 'estimator__vect__binary': False,\n",
       " 'estimator__vect__decode_error': 'strict',\n",
       " 'estimator__vect__dtype': numpy.int64,\n",
       " 'estimator__vect__encoding': 'utf-8',\n",
       " 'estimator__vect__input': 'content',\n",
       " 'estimator__vect__lowercase': True,\n",
       " 'estimator__vect__max_df': 1.0,\n",
       " 'estimator__vect__max_features': None,\n",
       " 'estimator__vect__min_df': 1,\n",
       " 'estimator__vect__ngram_range': (1, 1),\n",
       " 'estimator__vect__preprocessor': None,\n",
       " 'estimator__vect__stop_words': None,\n",
       " 'estimator__vect__strip_accents': None,\n",
       " 'estimator__vect__token_pattern': '(?u)\\\\b\\\\w\\\\w+\\\\b',\n",
       " 'estimator__vect__tokenizer': <function __main__.tokenize(text)>,\n",
       " 'estimator__vect__vocabulary': None,\n",
       " 'estimator__tfidf__norm': 'l2',\n",
       " 'estimator__tfidf__smooth_idf': True,\n",
       " 'estimator__tfidf__sublinear_tf': False,\n",
       " 'estimator__tfidf__use_idf': True,\n",
       " 'estimator__clf__estimator__bootstrap': True,\n",
       " 'estimator__clf__estimator__ccp_alpha': 0.0,\n",
       " 'estimator__clf__estimator__class_weight': None,\n",
       " 'estimator__clf__estimator__criterion': 'gini',\n",
       " 'estimator__clf__estimator__max_depth': None,\n",
       " 'estimator__clf__estimator__max_features': 'auto',\n",
       " 'estimator__clf__estimator__max_leaf_nodes': None,\n",
       " 'estimator__clf__estimator__max_samples': None,\n",
       " 'estimator__clf__estimator__min_impurity_decrease': 0.0,\n",
       " 'estimator__clf__estimator__min_impurity_split': None,\n",
       " 'estimator__clf__estimator__min_samples_leaf': 1,\n",
       " 'estimator__clf__estimator__min_samples_split': 2,\n",
       " 'estimator__clf__estimator__min_weight_fraction_leaf': 0.0,\n",
       " 'estimator__clf__estimator__n_estimators': 100,\n",
       " 'estimator__clf__estimator__n_jobs': None,\n",
       " 'estimator__clf__estimator__oob_score': False,\n",
       " 'estimator__clf__estimator__random_state': None,\n",
       " 'estimator__clf__estimator__verbose': 0,\n",
       " 'estimator__clf__estimator__warm_start': False,\n",
       " 'estimator__clf__estimator': RandomForestClassifier(),\n",
       " 'estimator__clf__n_jobs': None,\n",
       " 'estimator': Pipeline(steps=[('vect',\n",
       "                  CountVectorizer(tokenizer=<function tokenize at 0x000001FA7E8BD820>)),\n",
       "                 ('tfidf', TfidfTransformer()),\n",
       "                 ('clf',\n",
       "                  MultiOutputClassifier(estimator=RandomForestClassifier()))]),\n",
       " 'n_jobs': None,\n",
       " 'param_grid': {'vect__max_df': (0.75, 1.0),\n",
       "  'clf__estimator__n_estimators': [10, 20],\n",
       "  'clf__estimator__min_samples_split': [2, 5]},\n",
       " 'pre_dispatch': '2*n_jobs',\n",
       " 'refit': True,\n",
       " 'return_train_score': False,\n",
       " 'scoring': make_scorer(f1_scorer_eval),\n",
       " 'verbose': 7}"
      ]
     },
     "execution_count": 80,
     "metadata": {},
     "output_type": "execute_result"
    }
   ],
   "source": [
    "# look at the parameters\n",
    "cv_improved.get_params()"
   ]
  },
  {
   "cell_type": "code",
   "execution_count": 81,
   "metadata": {},
   "outputs": [
    {
     "name": "stdout",
     "output_type": "stream",
     "text": [
      "Fitting 5 folds for each of 8 candidates, totalling 40 fits\n",
      "[CV 1/5] END clf__estimator__min_samples_split=2, clf__estimator__n_estimators=10, vect__max_df=0.75;, score=0.592 total time= 2.7min\n",
      "[CV 2/5] END clf__estimator__min_samples_split=2, clf__estimator__n_estimators=10, vect__max_df=0.75;, score=0.592 total time= 2.6min\n",
      "[CV 3/5] END clf__estimator__min_samples_split=2, clf__estimator__n_estimators=10, vect__max_df=0.75;, score=0.592 total time= 2.2min\n",
      "[CV 4/5] END clf__estimator__min_samples_split=2, clf__estimator__n_estimators=10, vect__max_df=0.75;, score=0.591 total time= 2.5min\n",
      "[CV 5/5] END clf__estimator__min_samples_split=2, clf__estimator__n_estimators=10, vect__max_df=0.75;, score=0.591 total time= 2.3min\n",
      "[CV 1/5] END clf__estimator__min_samples_split=2, clf__estimator__n_estimators=10, vect__max_df=1.0;, score=0.592 total time= 2.3min\n",
      "[CV 2/5] END clf__estimator__min_samples_split=2, clf__estimator__n_estimators=10, vect__max_df=1.0;, score=0.592 total time= 2.3min\n",
      "[CV 3/5] END clf__estimator__min_samples_split=2, clf__estimator__n_estimators=10, vect__max_df=1.0;, score=0.592 total time= 2.3min\n",
      "[CV 4/5] END clf__estimator__min_samples_split=2, clf__estimator__n_estimators=10, vect__max_df=1.0;, score=0.591 total time= 2.2min\n",
      "[CV 5/5] END clf__estimator__min_samples_split=2, clf__estimator__n_estimators=10, vect__max_df=1.0;, score=0.591 total time= 2.3min\n",
      "[CV 1/5] END clf__estimator__min_samples_split=2, clf__estimator__n_estimators=20, vect__max_df=0.75;, score=0.592 total time= 2.3min\n",
      "[CV 2/5] END clf__estimator__min_samples_split=2, clf__estimator__n_estimators=20, vect__max_df=0.75;, score=0.592 total time= 2.3min\n",
      "[CV 3/5] END clf__estimator__min_samples_split=2, clf__estimator__n_estimators=20, vect__max_df=0.75;, score=0.592 total time= 2.7min\n",
      "[CV 4/5] END clf__estimator__min_samples_split=2, clf__estimator__n_estimators=20, vect__max_df=0.75;, score=0.591 total time= 3.0min\n",
      "[CV 5/5] END clf__estimator__min_samples_split=2, clf__estimator__n_estimators=20, vect__max_df=0.75;, score=0.591 total time= 2.3min\n",
      "[CV 1/5] END clf__estimator__min_samples_split=2, clf__estimator__n_estimators=20, vect__max_df=1.0;, score=0.592 total time= 2.5min\n",
      "[CV 2/5] END clf__estimator__min_samples_split=2, clf__estimator__n_estimators=20, vect__max_df=1.0;, score=0.592 total time= 2.3min\n",
      "[CV 3/5] END clf__estimator__min_samples_split=2, clf__estimator__n_estimators=20, vect__max_df=1.0;, score=0.592 total time= 2.3min\n",
      "[CV 4/5] END clf__estimator__min_samples_split=2, clf__estimator__n_estimators=20, vect__max_df=1.0;, score=0.591 total time= 2.4min\n",
      "[CV 5/5] END clf__estimator__min_samples_split=2, clf__estimator__n_estimators=20, vect__max_df=1.0;, score=0.591 total time= 2.3min\n",
      "[CV 1/5] END clf__estimator__min_samples_split=5, clf__estimator__n_estimators=10, vect__max_df=0.75;, score=0.592 total time= 2.3min\n",
      "[CV 2/5] END clf__estimator__min_samples_split=5, clf__estimator__n_estimators=10, vect__max_df=0.75;, score=0.592 total time= 2.3min\n",
      "[CV 3/5] END clf__estimator__min_samples_split=5, clf__estimator__n_estimators=10, vect__max_df=0.75;, score=0.592 total time= 2.5min\n",
      "[CV 4/5] END clf__estimator__min_samples_split=5, clf__estimator__n_estimators=10, vect__max_df=0.75;, score=0.591 total time= 2.2min\n",
      "[CV 5/5] END clf__estimator__min_samples_split=5, clf__estimator__n_estimators=10, vect__max_df=0.75;, score=0.591 total time= 2.2min\n",
      "[CV 1/5] END clf__estimator__min_samples_split=5, clf__estimator__n_estimators=10, vect__max_df=1.0;, score=0.592 total time= 2.2min\n",
      "[CV 2/5] END clf__estimator__min_samples_split=5, clf__estimator__n_estimators=10, vect__max_df=1.0;, score=0.592 total time= 2.4min\n",
      "[CV 3/5] END clf__estimator__min_samples_split=5, clf__estimator__n_estimators=10, vect__max_df=1.0;, score=0.592 total time= 2.3min\n",
      "[CV 4/5] END clf__estimator__min_samples_split=5, clf__estimator__n_estimators=10, vect__max_df=1.0;, score=0.591 total time= 2.2min\n",
      "[CV 5/5] END clf__estimator__min_samples_split=5, clf__estimator__n_estimators=10, vect__max_df=1.0;, score=0.591 total time= 2.3min\n",
      "[CV 1/5] END clf__estimator__min_samples_split=5, clf__estimator__n_estimators=20, vect__max_df=0.75;, score=0.592 total time= 2.3min\n",
      "[CV 2/5] END clf__estimator__min_samples_split=5, clf__estimator__n_estimators=20, vect__max_df=0.75;, score=0.592 total time= 2.5min\n",
      "[CV 3/5] END clf__estimator__min_samples_split=5, clf__estimator__n_estimators=20, vect__max_df=0.75;, score=0.592 total time= 2.3min\n",
      "[CV 4/5] END clf__estimator__min_samples_split=5, clf__estimator__n_estimators=20, vect__max_df=0.75;, score=0.591 total time= 2.3min\n",
      "[CV 5/5] END clf__estimator__min_samples_split=5, clf__estimator__n_estimators=20, vect__max_df=0.75;, score=0.591 total time= 2.3min\n",
      "[CV 1/5] END clf__estimator__min_samples_split=5, clf__estimator__n_estimators=20, vect__max_df=1.0;, score=0.592 total time= 2.6min\n",
      "[CV 2/5] END clf__estimator__min_samples_split=5, clf__estimator__n_estimators=20, vect__max_df=1.0;, score=0.592 total time= 2.3min\n",
      "[CV 3/5] END clf__estimator__min_samples_split=5, clf__estimator__n_estimators=20, vect__max_df=1.0;, score=0.592 total time= 2.3min\n",
      "[CV 4/5] END clf__estimator__min_samples_split=5, clf__estimator__n_estimators=20, vect__max_df=1.0;, score=0.591 total time= 2.3min\n",
      "[CV 5/5] END clf__estimator__min_samples_split=5, clf__estimator__n_estimators=20, vect__max_df=1.0;, score=0.591 total time= 2.6min\n"
     ]
    },
    {
     "data": {
      "text/plain": [
       "GridSearchCV(estimator=Pipeline(steps=[('vect',\n",
       "                                        CountVectorizer(tokenizer=<function tokenize at 0x000001FA7E8BD820>)),\n",
       "                                       ('tfidf', TfidfTransformer()),\n",
       "                                       ('clf',\n",
       "                                        MultiOutputClassifier(estimator=RandomForestClassifier()))]),\n",
       "             param_grid={'clf__estimator__min_samples_split': [2, 5],\n",
       "                         'clf__estimator__n_estimators': [10, 20],\n",
       "                         'vect__max_df': (0.75, 1.0)},\n",
       "             scoring=make_scorer(f1_scorer_eval), verbose=7)"
      ]
     },
     "execution_count": 81,
     "metadata": {},
     "output_type": "execute_result"
    }
   ],
   "source": [
    "# train classifier\n",
    "cv_improved.fit(X_train, y_train)"
   ]
  },
  {
   "cell_type": "markdown",
   "metadata": {},
   "source": [
    "### 7. Test improved model\n",
    "Show the precision, recall, f1-score, and support of the tuned model.  "
   ]
  },
  {
   "cell_type": "code",
   "execution_count": 82,
   "metadata": {},
   "outputs": [],
   "source": [
    "y_pred_improved = cv_improved.predict(X_test)\n",
    "#convert to a dataframe\n",
    "y_pred_improved = pd.DataFrame (y_pred_improved, columns = y_test.columns)"
   ]
  },
  {
   "cell_type": "code",
   "execution_count": 83,
   "metadata": {},
   "outputs": [
    {
     "data": {
      "text/html": [
       "<div>\n",
       "<style scoped>\n",
       "    .dataframe tbody tr th:only-of-type {\n",
       "        vertical-align: middle;\n",
       "    }\n",
       "\n",
       "    .dataframe tbody tr th {\n",
       "        vertical-align: top;\n",
       "    }\n",
       "\n",
       "    .dataframe thead th {\n",
       "        text-align: right;\n",
       "    }\n",
       "</style>\n",
       "<table border=\"1\" class=\"dataframe\">\n",
       "  <thead>\n",
       "    <tr style=\"text-align: right;\">\n",
       "      <th></th>\n",
       "      <th>precision</th>\n",
       "      <th>recall</th>\n",
       "      <th>f1-score</th>\n",
       "      <th>support</th>\n",
       "    </tr>\n",
       "  </thead>\n",
       "  <tbody>\n",
       "    <tr>\n",
       "      <th>18-24</th>\n",
       "      <td>0.650791</td>\n",
       "      <td>0.677857</td>\n",
       "      <td>0.663938</td>\n",
       "      <td>21937.388928</td>\n",
       "    </tr>\n",
       "    <tr>\n",
       "      <th>25-44</th>\n",
       "      <td>0.517612</td>\n",
       "      <td>0.614917</td>\n",
       "      <td>0.560475</td>\n",
       "      <td>21937.357459</td>\n",
       "    </tr>\n",
       "    <tr>\n",
       "      <th>45-64</th>\n",
       "      <td>0.338890</td>\n",
       "      <td>0.521881</td>\n",
       "      <td>0.404179</td>\n",
       "      <td>21937.310940</td>\n",
       "    </tr>\n",
       "    <tr>\n",
       "      <th>65-84</th>\n",
       "      <td>0.489503</td>\n",
       "      <td>0.601001</td>\n",
       "      <td>0.537379</td>\n",
       "      <td>21937.350501</td>\n",
       "    </tr>\n",
       "    <tr>\n",
       "      <th>85+</th>\n",
       "      <td>0.665081</td>\n",
       "      <td>0.684344</td>\n",
       "      <td>0.674521</td>\n",
       "      <td>21937.392172</td>\n",
       "    </tr>\n",
       "    <tr>\n",
       "      <th>bogo</th>\n",
       "      <td>0.349973</td>\n",
       "      <td>0.527996</td>\n",
       "      <td>0.414605</td>\n",
       "      <td>21937.313998</td>\n",
       "    </tr>\n",
       "    <tr>\n",
       "      <th>discount</th>\n",
       "      <td>0.576759</td>\n",
       "      <td>0.567036</td>\n",
       "      <td>0.549106</td>\n",
       "      <td>21937.318921</td>\n",
       "    </tr>\n",
       "    <tr>\n",
       "      <th>informational</th>\n",
       "      <td>0.567509</td>\n",
       "      <td>0.639051</td>\n",
       "      <td>0.600330</td>\n",
       "      <td>21937.369526</td>\n",
       "    </tr>\n",
       "    <tr>\n",
       "      <th>email</th>\n",
       "      <td>1.000000</td>\n",
       "      <td>1.000000</td>\n",
       "      <td>1.000000</td>\n",
       "      <td>27421.750000</td>\n",
       "    </tr>\n",
       "    <tr>\n",
       "      <th>mobile</th>\n",
       "      <td>0.626622</td>\n",
       "      <td>0.666774</td>\n",
       "      <td>0.645828</td>\n",
       "      <td>21937.383387</td>\n",
       "    </tr>\n",
       "    <tr>\n",
       "      <th>social</th>\n",
       "      <td>0.415576</td>\n",
       "      <td>0.563191</td>\n",
       "      <td>0.474158</td>\n",
       "      <td>21937.331596</td>\n",
       "    </tr>\n",
       "    <tr>\n",
       "      <th>web</th>\n",
       "      <td>0.536869</td>\n",
       "      <td>0.624315</td>\n",
       "      <td>0.576023</td>\n",
       "      <td>21937.362157</td>\n",
       "    </tr>\n",
       "  </tbody>\n",
       "</table>\n",
       "</div>"
      ],
      "text/plain": [
       "               precision    recall  f1-score       support\n",
       "18-24           0.650791  0.677857  0.663938  21937.388928\n",
       "25-44           0.517612  0.614917  0.560475  21937.357459\n",
       "45-64           0.338890  0.521881  0.404179  21937.310940\n",
       "65-84           0.489503  0.601001  0.537379  21937.350501\n",
       "85+             0.665081  0.684344  0.674521  21937.392172\n",
       "bogo            0.349973  0.527996  0.414605  21937.313998\n",
       "discount        0.576759  0.567036  0.549106  21937.318921\n",
       "informational   0.567509  0.639051  0.600330  21937.369526\n",
       "email           1.000000  1.000000  1.000000  27421.750000\n",
       "mobile          0.626622  0.666774  0.645828  21937.383387\n",
       "social          0.415576  0.563191  0.474158  21937.331596\n",
       "web             0.536869  0.624315  0.576023  21937.362157"
      ]
     },
     "execution_count": 83,
     "metadata": {},
     "output_type": "execute_result"
    }
   ],
   "source": [
    "#Test using function f1_pre_acc_evaluation\n",
    "report_improved = f1_pre_acc_evaluation(y_test, y_pred_improved)\n",
    "report_improved"
   ]
  },
  {
   "cell_type": "markdown",
   "metadata": {},
   "source": [
    "There wasn't that much of a difference between the first machine learning model and the improved one.\n",
    "\n",
    "| Model             | indicator     | fl-score |\n",
    "| ----------------- | ------------- | -------: |\n",
    "| 1st ML Model      | 18-24         | 0.66 |\n",
    "| Improved ML Model | 18-24 \t    | 0.66 |\t\n",
    "| 1st ML Model      | 25-44         | 0.56 |\n",
    "| Improved ML Model | 25-44 \t    | 0.56 |\t\n",
    "| 1st ML Model      | 45-64         | <p style=\"color:red\">0.41</p> |\n",
    "| Improved ML Model | 45-64 \t    | <p style=\"color:red\">0.40</p> |\t\n",
    "| 1st ML Model      | 65-84         | 0.53 |\t\n",
    "| Improved ML Model | 65-84 \t    | 0.53 |\n",
    "| 1st ML Model      | 85+           | 0.67 |\n",
    "| Improved ML Model | 85+  \t        | 0.67 |\t\n",
    "| 1st ML Model      | bogo          | 0.41 |\t\n",
    "| Improved ML Model | bogo \t        | 0.41 |\n",
    "| 1st ML Model      | discount      | 0.55 |\t\n",
    "| Improved ML Model | discount \t    | 0.55 |\n",
    "| 1st ML Model      | informational | 0.60 |\t\n",
    "| Improved ML Model | informational | 0.60 |\n",
    "| 1st ML Model      | email         | 1.00 |\n",
    "| Improved ML Model | email         | 1.00 |\n",
    "| 1st ML Model      | mobile        | 0.65 |\t\n",
    "| Improved ML Model | mobile        | 0.65 |\n",
    "| 1st ML Model      | social        | 0.48 |\t\n",
    "| Improved ML Model | social \t    | 0.48 |\n",
    "| 1st ML Model      | web           | 0.57 |\t\n",
    "| Improved ML Model | web \t        | 0.57 |"
   ]
  },
  {
   "cell_type": "markdown",
   "metadata": {},
   "source": [
    "### 8. Future Machine Learning Models.\n",
    " As mentioned above, there wasn't a noticable difference between the two machine learning models.  There are more options to try when creating and improving a machine learning model (e.g. Use of `TF-IDF` and `StartingVerbExtractor` to try and improve the model).  Below is some example code to use in the future if I wanted to try and improve on the first two machine learning models. "
   ]
  },
  {
   "cell_type": "code",
   "execution_count": 84,
   "metadata": {},
   "outputs": [],
   "source": [
    "# Example of the StartingVerbExtractor to use for the pipeline\n",
    "class StartingVerbExtractor(BaseEstimator, TransformerMixin):\n",
    "\n",
    "    def starting_verb(self, text):\n",
    "        sentence_list = nltk.sent_tokenize(text)\n",
    "        for sentence in sentence_list:\n",
    "            pos_tags = nltk.pos_tag(tokenize(sentence))\n",
    "            first_word, first_tag = pos_tags[0]\n",
    "            if first_tag in ['VB', 'VBP'] or first_word == 'RT':\n",
    "                return True\n",
    "        return False\n",
    "\n",
    "    def fit(self, x, y=None):\n",
    "        return self\n",
    "\n",
    "    def transform(self, X):\n",
    "        X_tagged = pd.Series(X).apply(self.starting_verb)\n",
    "        return pd.DataFrame(X_tagged)"
   ]
  },
  {
   "cell_type": "code",
   "execution_count": 85,
   "metadata": {},
   "outputs": [],
   "source": [
    "# Example of building a pipeline\n",
    "pipeline = Pipeline([\n",
    "    ('features', FeatureUnion([\n",
    "        ('text_pipeline', Pipeline([\n",
    "            ('vect', CountVectorizer(tokenizer=tokenize)),\n",
    "            ('tfidf', TfidfTransformer())\n",
    "            ])),\n",
    "        ('starting_verb', StartingVerbExtractor())\n",
    "    ])),\n",
    "    ('clf', RandomForestClassifier())\n",
    "])"
   ]
  },
  {
   "cell_type": "code",
   "execution_count": 86,
   "metadata": {},
   "outputs": [],
   "source": [
    "# Example of parameters\n",
    "parameters = {\n",
    "    'features__text_pipeline__vect__ngram_range': ((1, 1), (1, 2)),        \n",
    "    'features__text_pipeline__vect__max_df': (0.5, 0.75, 1.0),        \n",
    "    'features__text_pipeline__vect__max_features': (None, 5000, 10000),        \n",
    "    'features__text_pipeline__tfidf__use_idf': (True, False),        \n",
    "    'clf__n_estimators': [50, 100, 200],        \n",
    "    'clf__min_samples_split': [2, 3, 4],        \n",
    "    'features__transformer_weights': (\n",
    "        {'text_pipeline': 1, 'starting_verb': 0.5},            \n",
    "        {'text_pipeline': 0.5, 'starting_verb': 1},            \n",
    "        {'text_pipeline': 0.8, 'starting_verb': 1},        \n",
    "    )    \n",
    "}\n",
    "cv_improved = GridSearchCV(pipeline, param_grid=parameters)"
   ]
  },
  {
   "cell_type": "code",
   "execution_count": 88,
   "metadata": {},
   "outputs": [],
   "source": [
    "# Example of training a pipeline\n",
    "X_train, X_test, y_train, y_test = train_test_split(X, y)"
   ]
  },
  {
   "cell_type": "code",
   "execution_count": null,
   "metadata": {},
   "outputs": [],
   "source": [
    "# Example of training classifier\n",
    "cv_improved.fit(X_train, y_train)"
   ]
  },
  {
   "cell_type": "code",
   "execution_count": null,
   "metadata": {},
   "outputs": [],
   "source": [
    "# Example of reporting the f1-score, precision and recall\n",
    "y_pred_improved = cv_improved.predict(X_test)\n",
    "#convert to a dataframe\n",
    "y_pred_improved = pd.DataFrame (y_pred_improved, columns = y_test.columns)"
   ]
  },
  {
   "cell_type": "code",
   "execution_count": null,
   "metadata": {},
   "outputs": [],
   "source": [
    "# Example of using classification_report()\n",
    "print(classification_report(y_test, y_pred_improved, target_names=y.columns))"
   ]
  },
  {
   "cell_type": "code",
   "execution_count": null,
   "metadata": {},
   "outputs": [],
   "source": [
    "#Example of using function f1_pre_acc_evaluation\n",
    "report_improved = f1_pre_acc_evaluation(y_test, y_pred_improved)\n",
    "report_improved"
   ]
  },
  {
   "cell_type": "code",
   "execution_count": null,
   "metadata": {},
   "outputs": [],
   "source": [
    "#Example of saving using pickle for flask app in the future\n",
    "pickle.dump(cv_improved, open('final_model.sav', 'wb'))"
   ]
  }
 ],
 "metadata": {
  "kernelspec": {
   "display_name": "Python 3",
   "language": "python",
   "name": "python3"
  },
  "language_info": {
   "codemirror_mode": {
    "name": "ipython",
    "version": 3
   },
   "file_extension": ".py",
   "mimetype": "text/x-python",
   "name": "python",
   "nbconvert_exporter": "python",
   "pygments_lexer": "ipython3",
   "version": "3.8.5"
  }
 },
 "nbformat": 4,
 "nbformat_minor": 2
}
